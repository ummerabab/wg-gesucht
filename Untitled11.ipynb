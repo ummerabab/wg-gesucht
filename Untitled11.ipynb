{
 "cells": [
  {
   "cell_type": "code",
   "execution_count": 5,
   "metadata": {},
   "outputs": [],
   "source": [
    "import pandas as pd\n",
    "import numpy as np\n",
    "from sklearn import preprocessing\n",
    "import matplotlib.pyplot as plt \n",
    "plt.rc(\"font\", size=14)\n",
    "from sklearn.linear_model import LogisticRegression\n",
    "from sklearn.model_selection import train_test_split\n",
    "import seaborn as sns\n",
    "sns.set(style=\"white\")\n",
    "sns.set(style=\"whitegrid\", color_codes=True)"
   ]
  },
  {
   "cell_type": "code",
   "execution_count": 6,
   "metadata": {},
   "outputs": [],
   "source": [
    "df=pd.read_csv('dataset_passau1.csv')"
   ]
  },
  {
   "cell_type": "code",
   "execution_count": 7,
   "metadata": {},
   "outputs": [],
   "source": [
    "df=df.dropna()"
   ]
  },
  {
   "cell_type": "code",
   "execution_count": 8,
   "metadata": {},
   "outputs": [
    {
     "name": "stdout",
     "output_type": "stream",
     "text": [
      "(1, 17)\n"
     ]
    }
   ],
   "source": [
    "print(df.shape)"
   ]
  },
  {
   "cell_type": "code",
   "execution_count": 9,
   "metadata": {},
   "outputs": [
    {
     "name": "stdout",
     "output_type": "stream",
     "text": [
      "['Name', 'Title', 'URL', 'Die_WG', 'Gesucht_wird', 'Adresse', 'Zimmer', 'Lage', 'WG-Leben', 'Sonstiges', 'Unnamed: 10', 'ga_first_name', 'ga_gender', 'ga_accuracy', 'ga_samples', 'Bewohneralter', 'LGBTQIA+ Preference']\n"
     ]
    }
   ],
   "source": [
    "print(list(df.columns))"
   ]
  },
  {
   "cell_type": "code",
   "execution_count": 10,
   "metadata": {},
   "outputs": [
    {
     "data": {
      "text/html": [
       "<div>\n",
       "<style scoped>\n",
       "    .dataframe tbody tr th:only-of-type {\n",
       "        vertical-align: middle;\n",
       "    }\n",
       "\n",
       "    .dataframe tbody tr th {\n",
       "        vertical-align: top;\n",
       "    }\n",
       "\n",
       "    .dataframe thead th {\n",
       "        text-align: right;\n",
       "    }\n",
       "</style>\n",
       "<table border=\"1\" class=\"dataframe\">\n",
       "  <thead>\n",
       "    <tr style=\"text-align: right;\">\n",
       "      <th></th>\n",
       "      <th>Name</th>\n",
       "      <th>Title</th>\n",
       "      <th>URL</th>\n",
       "      <th>Die_WG</th>\n",
       "      <th>Gesucht_wird</th>\n",
       "      <th>Adresse</th>\n",
       "      <th>Zimmer</th>\n",
       "      <th>Lage</th>\n",
       "      <th>WG-Leben</th>\n",
       "      <th>Sonstiges</th>\n",
       "      <th>Unnamed: 10</th>\n",
       "      <th>ga_first_name</th>\n",
       "      <th>ga_gender</th>\n",
       "      <th>ga_accuracy</th>\n",
       "      <th>ga_samples</th>\n",
       "      <th>Bewohneralter</th>\n",
       "      <th>LGBTQIA+ Preference</th>\n",
       "    </tr>\n",
       "  </thead>\n",
       "  <tbody>\n",
       "    <tr>\n",
       "      <th>78</th>\n",
       "      <td>Diana P.</td>\n",
       "      <td>Moderne 2-Zimmer WG zur Zwischenmiete</td>\n",
       "      <td>https://www.wg-gesucht.de/wg-zimmer-in-Passau-...</td>\n",
       "      <td>;11m² Zimmer in 2er WG;Wohnungsgröße: 61m²;2er...</td>\n",
       "      <td>Frau zwischen 19 und 27 Jahren</td>\n",
       "      <td>Lindental 94032 Passau Innstadt</td>\n",
       "      <td>Da ich ab diesem Wintersemester ein Auslandsse...</td>\n",
       "      <td>Die Wohnung liegt eher im unteren Teil des ruh...</td>\n",
       "      <td>Deine Mitbewohnerin wird Melanie (21) sein. Si...</td>\n",
       "      <td>Frau Hörner</td>\n",
       "      <td>Sonstiges:Die Wohnung ist ein schöner Altbau m...</td>\n",
       "      <td>Diana P.</td>\n",
       "      <td>female</td>\n",
       "      <td>100.0</td>\n",
       "      <td>3.0</td>\n",
       "      <td>21+</td>\n",
       "      <td>No</td>\n",
       "    </tr>\n",
       "  </tbody>\n",
       "</table>\n",
       "</div>"
      ],
      "text/plain": [
       "        Name                                  Title  \\\n",
       "78  Diana P.  Moderne 2-Zimmer WG zur Zwischenmiete   \n",
       "\n",
       "                                                  URL  \\\n",
       "78  https://www.wg-gesucht.de/wg-zimmer-in-Passau-...   \n",
       "\n",
       "                                               Die_WG  \\\n",
       "78  ;11m² Zimmer in 2er WG;Wohnungsgröße: 61m²;2er...   \n",
       "\n",
       "                      Gesucht_wird                          Adresse  \\\n",
       "78  Frau zwischen 19 und 27 Jahren  Lindental 94032 Passau Innstadt   \n",
       "\n",
       "                                               Zimmer  \\\n",
       "78  Da ich ab diesem Wintersemester ein Auslandsse...   \n",
       "\n",
       "                                                 Lage  \\\n",
       "78  Die Wohnung liegt eher im unteren Teil des ruh...   \n",
       "\n",
       "                                             WG-Leben    Sonstiges  \\\n",
       "78  Deine Mitbewohnerin wird Melanie (21) sein. Si...  Frau Hörner   \n",
       "\n",
       "                                          Unnamed: 10 ga_first_name ga_gender  \\\n",
       "78  Sonstiges:Die Wohnung ist ein schöner Altbau m...      Diana P.    female   \n",
       "\n",
       "    ga_accuracy  ga_samples Bewohneralter LGBTQIA+ Preference  \n",
       "78        100.0         3.0           21+                  No  "
      ]
     },
     "execution_count": 10,
     "metadata": {},
     "output_type": "execute_result"
    }
   ],
   "source": [
    "df.head()"
   ]
  },
  {
   "cell_type": "code",
   "execution_count": 11,
   "metadata": {},
   "outputs": [
    {
     "data": {
      "text/plain": [
       "array(['Frau zwischen 19 und 27 Jahren'], dtype=object)"
      ]
     },
     "execution_count": 11,
     "metadata": {},
     "output_type": "execute_result"
    }
   ],
   "source": [
    "df['Gesucht_wird'].unique()\n"
   ]
  },
  {
   "cell_type": "code",
   "execution_count": 12,
   "metadata": {},
   "outputs": [],
   "source": [
    "df['Gesucht_wird']=np.where(df['Gesucht_wird'] =='Geschlecht egal', 'Frau', df['Gesucht_wird'])\n",
    "df['Gesucht_wird']=np.where(df['Gesucht_wird'] =='Mann zwischen 20 und 30 Jahren', 'Frau zwischen 19 und 27 Jahren', df['Gesucht_wird'])"
   ]
  },
  {
   "cell_type": "code",
   "execution_count": 13,
   "metadata": {},
   "outputs": [
    {
     "data": {
      "text/plain": [
       "array(['Frau zwischen 19 und 27 Jahren'], dtype=object)"
      ]
     },
     "execution_count": 13,
     "metadata": {},
     "output_type": "execute_result"
    }
   ],
   "source": [
    "df['Gesucht_wird'].unique()"
   ]
  },
  {
   "cell_type": "code",
   "execution_count": 20,
   "metadata": {},
   "outputs": [],
   "source": [
    "df=pd.DataFrame({'LGBTQIA+ Preference':np.random.choice([\"Yes\",\"No\"],99,p=[0.7,0.3])})"
   ]
  },
  {
   "cell_type": "code",
   "execution_count": 21,
   "metadata": {},
   "outputs": [
    {
     "data": {
      "text/html": [
       "<div>\n",
       "<style scoped>\n",
       "    .dataframe tbody tr th:only-of-type {\n",
       "        vertical-align: middle;\n",
       "    }\n",
       "\n",
       "    .dataframe tbody tr th {\n",
       "        vertical-align: top;\n",
       "    }\n",
       "\n",
       "    .dataframe thead th {\n",
       "        text-align: right;\n",
       "    }\n",
       "</style>\n",
       "<table border=\"1\" class=\"dataframe\">\n",
       "  <thead>\n",
       "    <tr style=\"text-align: right;\">\n",
       "      <th></th>\n",
       "      <th>LGBTQIA+ Preference</th>\n",
       "    </tr>\n",
       "  </thead>\n",
       "  <tbody>\n",
       "    <tr>\n",
       "      <th>0</th>\n",
       "      <td>No</td>\n",
       "    </tr>\n",
       "    <tr>\n",
       "      <th>1</th>\n",
       "      <td>Yes</td>\n",
       "    </tr>\n",
       "    <tr>\n",
       "      <th>2</th>\n",
       "      <td>Yes</td>\n",
       "    </tr>\n",
       "    <tr>\n",
       "      <th>3</th>\n",
       "      <td>No</td>\n",
       "    </tr>\n",
       "    <tr>\n",
       "      <th>4</th>\n",
       "      <td>Yes</td>\n",
       "    </tr>\n",
       "    <tr>\n",
       "      <th>...</th>\n",
       "      <td>...</td>\n",
       "    </tr>\n",
       "    <tr>\n",
       "      <th>94</th>\n",
       "      <td>Yes</td>\n",
       "    </tr>\n",
       "    <tr>\n",
       "      <th>95</th>\n",
       "      <td>No</td>\n",
       "    </tr>\n",
       "    <tr>\n",
       "      <th>96</th>\n",
       "      <td>Yes</td>\n",
       "    </tr>\n",
       "    <tr>\n",
       "      <th>97</th>\n",
       "      <td>Yes</td>\n",
       "    </tr>\n",
       "    <tr>\n",
       "      <th>98</th>\n",
       "      <td>No</td>\n",
       "    </tr>\n",
       "  </tbody>\n",
       "</table>\n",
       "<p>99 rows × 1 columns</p>\n",
       "</div>"
      ],
      "text/plain": [
       "   LGBTQIA+ Preference\n",
       "0                   No\n",
       "1                  Yes\n",
       "2                  Yes\n",
       "3                   No\n",
       "4                  Yes\n",
       "..                 ...\n",
       "94                 Yes\n",
       "95                  No\n",
       "96                 Yes\n",
       "97                 Yes\n",
       "98                  No\n",
       "\n",
       "[99 rows x 1 columns]"
      ]
     },
     "execution_count": 21,
     "metadata": {},
     "output_type": "execute_result"
    }
   ],
   "source": [
    "df"
   ]
  },
  {
   "cell_type": "code",
   "execution_count": 22,
   "metadata": {},
   "outputs": [
    {
     "data": {
      "text/plain": [
       "Yes    77\n",
       "No     22\n",
       "Name: LGBTQIA+ Preference, dtype: int64"
      ]
     },
     "execution_count": 22,
     "metadata": {},
     "output_type": "execute_result"
    }
   ],
   "source": [
    "df['LGBTQIA+ Preference'].value_counts()"
   ]
  },
  {
   "cell_type": "code",
   "execution_count": 24,
   "metadata": {},
   "outputs": [
    {
     "data": {
      "text/plain": [
       "<AxesSubplot:>"
      ]
     },
     "execution_count": 24,
     "metadata": {},
     "output_type": "execute_result"
    },
    {
     "data": {
      "image/png": "[encoded data removed]",
      "text/plain": [
       "<Figure size 432x288 with 1 Axes>"
      ]
     },
     "metadata": {},
     "output_type": "display_data"
    }
   ],
   "source": [
    "df['LGBTQIA+ Preference'].value_counts().plot(kind='bar',color='red')"
   ]
  },
  {
   "cell_type": "code",
   "execution_count": null,
   "metadata": {},
   "outputs": [],
   "source": []
  }
 ],
 "metadata": {
  "kernelspec": {
   "display_name": "Python 3",
   "language": "python",
   "name": "python3"
  },
  "language_info": {
   "codemirror_mode": {
    "name": "ipython",
    "version": 3
   },
   "file_extension": ".py",
   "mimetype": "text/x-python",
   "name": "python",
   "nbconvert_exporter": "python",
   "pygments_lexer": "ipython3",
   "version": "3.8.5"
  }
 },
 "nbformat": 4,
 "nbformat_minor": 4
}
