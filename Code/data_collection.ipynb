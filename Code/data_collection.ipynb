{
 "cells": [
  {
   "cell_type": "code",
   "execution_count": 399,
   "metadata": {},
   "outputs": [],
   "source": [
    "from selenium import webdriver\n",
    "from bs4 import BeautifulSoup\n",
    "import pickle5 as pickle\n",
    "import pandas as pd\n",
    "import requests\n",
    "import os.path\n",
    "import re"
   ]
  },
  {
   "cell_type": "code",
   "execution_count": 400,
   "metadata": {},
   "outputs": [],
   "source": [
    "# Extract page\n",
    "def extract(URL):\n",
    "    #headers = {'User-Agent': 'Mozilla/5.0 (Macintosh; Intel Mac OS X 10_15_7) AppleWebKit/537.36 (KHTML, like Gecko) Chrome/90.0.4430.212 Safari/537.36'}\n",
    "    page = requests.get(URL)\n",
    "    soup = BeautifulSoup(page.content, 'html.parser')\n",
    "    \n",
    "    #Download website locally ; Replace the path with where the folder is located on your system\n",
    "    file_name = '/Users/ummerabab-/Desktop/wg-gesucht/Websites/' + URL.split(\"https://www.wg-gesucht.de/\")[1].split('.html')[0] + '.txt'\n",
    "    with open(file_name, \"wb\") as file:\n",
    "        file.write(page.content)\n",
    "    \n",
    "    return soup\n",
    "\n",
    "# Acquire useful information from HTML tags\n",
    "def transform(soup):\n",
    "    panel_body = soup.find('div', class_ = 'panel-body')\n",
    "    rows = panel_body.find_all('div', class_ = 'row')\n",
    "    \n",
    "    details_dict = {}\n",
    "    \n",
    "    \n",
    "    \n",
    "    #WG-Details\n",
    "    wg_tag = ''\n",
    "    gesucht_wird = ''\n",
    "    person_img_src = ''\n",
    "    \n",
    "    for item in rows:\n",
    "        \n",
    "        for sub_item in item.find_all('div', class_ = 'col-sm-6'):\n",
    "            if sub_item.h4.text.strip() == 'Die WG':\n",
    "                ul_tag = sub_item.find('ul')\n",
    "                for li in ul_tag.find_all('li'):\n",
    "                    wg_tag = wg_tag + ';' + re.sub('\\s+',' ',(li.text.strip().replace('\\n','')))\n",
    "                \n",
    "            if sub_item.h4.text.strip() == 'Gesucht wird':\n",
    "                ul_tag = sub_item.find('ul')\n",
    "                for li in ul_tag.find_all('li'):\n",
    "                    gesucht_wird = re.sub('\\s+',' ',(li.text.strip().replace('\\n','')))\n",
    "    \n",
    "         #Person\n",
    "        if item.find('div', class_ = 'mb10'):\n",
    "            if item.find('img'):\n",
    "                person_img_src = item.find('img')['src']\n",
    "#                 print(person_img_src['src'])\n",
    "\n",
    "\n",
    "            \n",
    "            \n",
    "    details_dict = {'Die WG': wg_tag,\n",
    "                    'Gesucht wird': gesucht_wird,\n",
    "                    'Person': person_img_src}\n",
    "        \n",
    "    \n",
    "    #Description\n",
    "    description_tag = panel_body.find('div', id = 'ad_description_text')\n",
    "    #print(description_tag)\n",
    "\n",
    "    zimmer = ''\n",
    "    lage = ''\n",
    "    wg_leben = ''\n",
    "    sonstiges = ''\n",
    "        \n",
    "    if description_tag.find('div', id ='freitext_0'):\n",
    "            zimmer = description_tag.find('p', id ='freitext_0_content').text.strip().replace('\\n','').replace('\\r','')\n",
    "    if description_tag.find('div', id ='freitext_1'):\n",
    "            lage = description_tag.find('p', id ='freitext_1_content').text.strip().replace('\\n','').replace('\\r','')\n",
    "    if description_tag.find('div', id ='freitext_2'):\n",
    "            wg_leben = description_tag.find('p', id ='freitext_2_content').text.strip().replace('\\n','').replace('\\r','')\n",
    "    if description_tag.find('div', id ='freitext_3'):\n",
    "            sonstiges = description_tag.find('p', id ='freitext_3_content').text.strip().replace('\\n','').replace('\\r','')\n",
    "\n",
    "            \n",
    "    details_dict['Zimmer'] = zimmer\n",
    "    details_dict['Lage'] = lage\n",
    "    details_dict['WG-Leben'] = wg_leben\n",
    "    details_dict['Sonstiges'] = sonstiges\n",
    "        \n",
    "    #print(desc_dict)\n",
    "            \n",
    "    return details_dict"
   ]
  },
  {
   "cell_type": "code",
   "execution_count": 438,
   "metadata": {},
   "outputs": [
    {
     "name": "stdout",
     "output_type": "stream",
     "text": [
      "{'Die WG': ';12m² Zimmer in 5er WG;;5er WG ( 1 Mann );Bewohneralter: 24 bis 24 Jahre;Rauchen auf dem Balkon erlaubt;Studenten-WG, Berufstätigen-WG, keine Zweck-WG, gemischte WG;Sprache/n: Deutsch, Englisch', 'Gesucht wird': 'Geschlecht egal zwischen 18 und 30 Jahren', 'Person': 't_ph.html?qrup=grap36&id=8738917', 'Zimmer': 'Ich suche zum 01.09.2021 eine*n Nachmieter*in für mein gemütliches Zimmer (Zimmer 4) in unserer 5er WG. Das Zimmer ist etwa 12 qm groß und das Fenster geht raus zu dem Hinterhof, der zum Haus dazugehört, sodass es nachts angenehm ruhig ist. Das Zimmer ist voll möbliert, ausgestattet mit großem Bett, Schrank, Kommode, Regalen und Schreibtisch, die vom Vermieter gestellt werden. Da das Zimmer zur Südseite rausgeht, ist es den ganzen Tag lichtdurchflutet. Das Zimmer kostet 380€ / Monat, wobei im Preis Strom, Internet etc. inklusive sind und keine weiteren Nebenkosten auf dich zukommen. Die Wohnung geht über zwei Stockwerke, wobei sich das Zimmer im oberen Stockwerk befindet, gegenüber von unserem geräumigen Bad mit riesiger Dusche und genug Platz, dass man gemeinsam Zähne putzen kann :) Falls es morgens doch mal eng werden sollte, gibt es auch ein zweites kleineres Bad zum Ausweichen, ebenfalls mit Dusche und WC. Eine große, moderne Küche haben wir auch (mit Geschirrspüler - sehr wichtig!- und sehr großem Kühlschrank) und ein Wohnzimmer mit einem Tisch, zwei Sofas und einem Beamer, der zu gemeinsamen Filmabenden einlädt :)Auch eine Waschmaschine und ein Trockner sind vorhanden, was ziemlich praktisch ist, Staubsauger, Wäscheständer etc. sind ebenfalls da.Die WG liegt in der Lederergasse in einem großen Haus mit weiteren WGs. Zum Haus gehört ein Hinterhof mit gemeinschaftlich genutztem Grill und ein großer Fahrradkeller.', 'Lage': 'Die Wohnung liegt in der schönen Lederergasse, in der Innstadt, und vom Zimmer aus kann man sogar die Wallfahrtskirche Mariahilf sehen. Man ist in einer halben Minute am Inn und hat ein paar Häuser weiter die Möglichkeit, in einem schönen Biergarten den Feierabend zu genießen. So ist die Lage auch perfekt für eine Joggingrunde am Inn (Julian nimmt dich sehr gerne mit ;))Die nächste Bushaltestelle ist 3 Minuten entfernt, zur Uni (Bib) brauchst du zu Fuß 10 Minuten (mit dem Fahrrad nur 5 Minuten). Alles wichtige (ZOB, Rewe, Bars, etc.) ist in maximal 15 Fußminuten erreichbar.Zu Fuß:-5 Min. zur Uni -1 Min zum Fünferlsteg-3 Min. zum Kaffeewerk-8 Min. zum Domplatz', 'WG-Leben': 'Da es nicht nur mich ins Ausland verschlägt, sondern auch meine beiden Mitbewohnerinnen neue Wege einschlagen, werden neben meinem Zimmer noch zwei weitere frei. Es handelt sich also fast um eine Neugründung, denn auch Pritesh wird Passau im September für mindestens drei Monate verlassen. In der WG bleibt Julian. Er ist 24 und hat das Studentenleben schon hinter sich. Als Redakteur arbeitet er Vollzeit für eine Nachrichtenagentur in München im Home Office. Er hat beruflich viel mit Serien und Filmen zu tun und ist dementsprechend immer offen für einen Heimkino-Abend im Wohnzimmer. Außerdem ist er großer Fußball-Fan und leidenschaftlicher Musiker. Pluspunkte gibt es demnach für musikaffine Menschen :) Ansonsten ist er für Gemeinschaftsaktivitäten immer zu haben, sei es für gemeinsames Kochen oder eine Runde auf der Joggingstrecke direkt vor der Haustüre.Bislang war das Verhältnis in der WG sehr freundschaftlich. Wir machen viel zusammen, wie z.B. kochen, zusammen in den Biergarten gehen oder am Inn den Abend ausklingen lassen, Serien zusammen schauen oder einfach in der Küche oder im Garten gemeinsam quatschen. Selbstverständlich kann man sich auch immer zurückziehen, nach dem Motto “Alles kann, nichts muss” :-) Es wäre daher schön, wenn du auch Lust auf ein aktives WG-Leben hast und Interesse daran, dass das Zusammenleben spaßig und harmonisch ist.', 'Sonstiges': 'Noch einmal zusammenfassend:- Zimmer, ca. 12 m², 380€- keine Nebenkosten, Strom, Heizung, Internet, Hausreinigung etc. alles inklusive- Edelstahlküche mit Geschirrspüler, Doppel-Kühlschrank, Dunstabzug, Herd, in Gastro-Qualität- Waschmaschine und Wäschetrockner- High-Speed Internet- Zimmer hat eigenen SAT-Anschluss- großer Hinterhof mit Grill- großer Fahrradkeller'}\n"
     ]
    }
   ],
   "source": [
    "#Specify the URL to extract from\n",
    "URL = \"https://www.wg-gesucht.de/wg-zimmer-in-Passau-Hacklberg.6544525.html\"\n",
    "\n",
    "# Call functions to Extract HTML from URL and Transform it.\n",
    "page = extract(URL)\n",
    "details_dict = transform(page)\n",
    "print(details_dict)"
   ]
  },
  {
   "cell_type": "code",
   "execution_count": 439,
   "metadata": {},
   "outputs": [
    {
     "name": "stdout",
     "output_type": "stream",
     "text": [
      "                                              Die WG  \\\n",
      "0  ;12m² Zimmer in 5er WG;;5er WG ( 1 Mann );Bewo...   \n",
      "\n",
      "                                Gesucht wird  \\\n",
      "0  Geschlecht egal zwischen 18 und 30 Jahren   \n",
      "\n",
      "                             Person  \\\n",
      "0  t_ph.html?qrup=grap36&id=8738917   \n",
      "\n",
      "                                              Zimmer  \\\n",
      "0  Ich suche zum 01.09.2021 eine*n Nachmieter*in ...   \n",
      "\n",
      "                                                Lage  \\\n",
      "0  Die Wohnung liegt in der schönen Lederergasse,...   \n",
      "\n",
      "                                            WG-Leben  \\\n",
      "0  Da es nicht nur mich ins Ausland verschlägt, s...   \n",
      "\n",
      "                                           Sonstiges  \n",
      "0  Noch einmal zusammenfassend:- Zimmer, ca. 12 m...  \n"
     ]
    }
   ],
   "source": [
    "# Convert dictionary to data_frame\n",
    "data_frame = pd.DataFrame([details_dict])\n",
    "print (data_frame)\n",
    "\n",
    "# Save to file with pickle in csv format\n",
    "csv_path = '/Users/ummerabab-/Desktop/wg-gesucht/Code/dataset.csv'\n",
    "if(os.path.isfile(csv_path)):\n",
    "    data_frame.to_csv(csv_path, mode='a', encoding='utf-8', index= False, header=False) #\n",
    "else:\n",
    "    data_frame.to_csv(csv_path, encoding='utf-8', index= False)\n",
    "#data_frame.to_csv(r'/Users/ummerabab-/Desktop/wg-gesucht/Code/dataset.csv', index = False)"
   ]
  },
  {
   "cell_type": "code",
   "execution_count": 317,
   "metadata": {},
   "outputs": [],
   "source": [
    "# driver = webdriver.Chrome()\n",
    "# driver.get(\"https://www.wg-gesucht.de/wg-zimmer-in-Passau.104.0.1.0.html\")\n",
    "# print(driver.title)"
   ]
  },
  {
   "cell_type": "code",
   "execution_count": null,
   "metadata": {},
   "outputs": [],
   "source": [
    "# def transform(driver):\n",
    "#     #/html/body/div[@id='master_wrapper']/div[@id='site_wrapper']/div[@id='main_content']/div[@id='main_column']/div[@id='liste-details-ad-7368387']/div[@class='row']/div[@class='col-sm-8 card_body']\n",
    "#     cards = driver.find_element_by_xpath(\"/html/body/div[@id='master_wrapper']/div[@id='site_wrapper']/div[@id='main_content']/div[@id='main_column']/div[@id='liste-details-ad-7368387']\")\n",
    "#     print(cards)\n",
    "#     cards.click()\n",
    "#     #return len(divs)\n",
    "\n",
    "# transform(driver)"
   ]
  }
 ],
 "metadata": {
  "kernelspec": {
   "display_name": "Python 3",
   "language": "python",
   "name": "python3"
  },
  "language_info": {
   "codemirror_mode": {
    "name": "ipython",
    "version": 3
   },
   "file_extension": ".py",
   "mimetype": "text/x-python",
   "name": "python",
   "nbconvert_exporter": "python",
   "pygments_lexer": "ipython3",
   "version": "3.8.3"
  }
 },
 "nbformat": 4,
 "nbformat_minor": 4
}
