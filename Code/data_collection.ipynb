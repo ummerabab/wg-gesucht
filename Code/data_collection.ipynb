{
 "cells": [
  {
   "cell_type": "code",
   "execution_count": 296,
   "metadata": {},
   "outputs": [],
   "source": [
    "from selenium import webdriver\n",
    "from bs4 import BeautifulSoup\n",
    "import pickle5 as pickle\n",
    "import pandas as pd\n",
    "import requests\n",
    "import os.path\n",
    "import re"
   ]
  },
  {
   "cell_type": "code",
   "execution_count": 310,
   "metadata": {},
   "outputs": [],
   "source": [
    "# Extract page\n",
    "def extract(URL):\n",
    "    #headers = {'User-Agent': 'Mozilla/5.0 (Macintosh; Intel Mac OS X 10_15_7) AppleWebKit/537.36 (KHTML, like Gecko) Chrome/90.0.4430.212 Safari/537.36'}\n",
    "    page = requests.get(URL)\n",
    "    soup = BeautifulSoup(page.content, 'html.parser')\n",
    "    \n",
    "    #Download website locally ; Replace the path with where the folder is located on your system\n",
    "    file_name = '/Users/ummerabab-/Desktop/wg-gesucht/Websites/' + URL.split(\"https://www.wg-gesucht.de/\")[1].split('.html')[0] + '.txt'\n",
    "    with open(file_name, \"wb\") as file:\n",
    "        file.write(page.content)\n",
    "    \n",
    "    return soup\n",
    "\n",
    "# Acquire useful information from HTML tags\n",
    "def transform(soup):\n",
    "    panel_body = soup.find('div', class_ = 'panel-body')\n",
    "    rows = panel_body.find_all('div', class_ = 'row')\n",
    "    \n",
    "    details_dict = {}\n",
    "    \n",
    "    #WG-Details\n",
    "    wg_tag = ''\n",
    "    gesucht_wird = ''\n",
    "    \n",
    "    for item in rows:\n",
    "        \n",
    "        for sub_item in item.find_all('div', class_ = 'col-sm-6'):\n",
    "            if sub_item.h4.text.strip() == 'Die WG':\n",
    "                ul_tag = sub_item.find('ul')\n",
    "                for li in ul_tag.find_all('li'):\n",
    "                    wg_tag = wg_tag + ' ; ' + re.sub('\\s+',' ',(li.text.strip().replace('\\n','')))\n",
    "                \n",
    "            if sub_item.h4.text.strip() == 'Gesucht wird':\n",
    "                ul_tag = sub_item.find('ul')\n",
    "                for li in ul_tag.find_all('li'):\n",
    "                    gesucht_wird = re.sub('\\s+',' ',(li.text.strip().replace('\\n','')))\n",
    "    \n",
    "    \n",
    "    \n",
    "    details_dict = {'Die WG': wg_tag,\n",
    "                    'Gesucht wird': gesucht_wird}\n",
    "        \n",
    "    \n",
    "    #Description\n",
    "    description_tag = panel_body.find('div', id = 'ad_description_text')\n",
    "    #print(description_tag)\n",
    "\n",
    "    zimmer = ''\n",
    "    lage = ''\n",
    "    wg_leben = ''\n",
    "    sonstiges = ''\n",
    "        \n",
    "    if description_tag.find('div', id ='freitext_0'):\n",
    "            zimmer = description_tag.find('p', id ='freitext_0_content').text.strip().replace('\\n','').replace('\\r','')\n",
    "    if description_tag.find('div', id ='freitext_1'):\n",
    "            lage = description_tag.find('p', id ='freitext_1_content').text.strip().replace('\\n','').replace('\\r','')\n",
    "    if description_tag.find('div', id ='freitext_2'):\n",
    "            wg_leben = description_tag.find('p', id ='freitext_2_content').text.strip().replace('\\n','').replace('\\r','')\n",
    "    if description_tag.find('div', id ='freitext_3'):\n",
    "            sonstiges = description_tag.find('p', id ='freitext_3_content').text.strip().replace('\\n','').replace('\\r','')\n",
    "\n",
    "            \n",
    "    details_dict['Zimmer'] = zimmer\n",
    "    details_dict['Lage'] = lage\n",
    "    details_dict['WG-Leben'] = wg_leben\n",
    "    details_dict['Sonstiges'] = sonstiges\n",
    "        \n",
    "    #print(desc_dict)\n",
    "            \n",
    "    return details_dict"
   ]
  },
  {
   "cell_type": "code",
   "execution_count": 320,
   "metadata": {},
   "outputs": [
    {
     "name": "stdout",
     "output_type": "stream",
     "text": [
      "{'Die WG': ' ; 22m² Zimmer in 5er WG ;  ; 5er WG ( 3 Frauen und 1 Mann ) ; Bewohneralter: 21 bis 27 Jahre ; Studenten-WG, keine Zweck-WG, gemischte WG, Vegetarisch/Vegan, LGBTQIA+ ; ', 'Gesucht wird': 'Geschlecht egal zwischen 20 und 27 Jahren', 'Zimmer': \"Dein Zimmer ist - nach Max' Meinung ;) - das schönste in diesem Traum eines studentischen Domizils.Dein Zimmer hat eine Tür zum Balkon mit Blick auf die Berge Inglings und Österreichs mit Sonnenliege und einer bezaubernden Stimmung bei Nacht. Es ist absolut still: Lediglich die vielfältige Vogel- und Tierwelt (wir haben auch Igel) sowie die herzlichen Gespräche aus den benachbarten Gärten oder das Klingeln des Postboten dringen zu dir vor.Das Zimmer selbst ist mit einem Schreibtisch, einer Kommode und einem Schrank ausgestattet -  lediglich das Bett, den gelben Sessel und die Lampe nimmt Max mit. Die breite Fensterfront mit den altmodischen Fensterläden gibt einen herrlichen Blick ins Grüne und auf das Inntal preis. Du besitzt einen komplett verspiegelten 4m breiten Garderobenschrank, der das Zimmer optisch noch vergrößert, heller wirken lässt und in dem du garantiert alles unterbringen kannst.Über dir wohnt niemand und das Zimmer ist durch die Bauweise etwas vorgelagert, sodass es das ruhigste Zimmer in unserer kleinen Villa ist.\", 'Lage': 'Die ehemalige Stadtvilla thront idyllisch hinter der Löwenbrauerei.Du hast stets das Gefühl mitten in der Stadt, aber doch außerhalb zu wohnen. Zum ZOB und REWE sind es 10min, zur Uni/Sportzentrum 10min, zum HBF 15min zu Fuß.', 'WG-Leben': 'Diese WG scheint immer wieder Menschen anzuziehen, die es gut mit ihren Mitmenschen meinen. Es herrscht eine ausgewogene Atmosphäre, in der gemeinsame Koch- und Spieleabende sowie gelegentliche Filmabende in Ninas Zimmer oder lange Nächte auf der überdachten Terrasse keine Seltenheit sind. Du findest hier also Gemeinschaft und Freiraum zugleich. :)Wenn du dich für die WG und das Haus interessierst, wäre es schön, wenn du ein offener und empathischer Mensch bist.', 'Sonstiges': 'Wir freuen uns über schriftliche Anfragen :)'}\n"
     ]
    }
   ],
   "source": [
    "#Specify the URL to extract from\n",
    "URL = \"https://www.wg-gesucht.de/wg-zimmer-in-Passau-Haidenhof-Sud.8691963.html\"\n",
    "\n",
    "# Call functions to Extract HTML from URL and Transform it.\n",
    "page = extract(URL)\n",
    "details_dict = transform(page)\n",
    "print(details_dict)"
   ]
  },
  {
   "cell_type": "code",
   "execution_count": 321,
   "metadata": {},
   "outputs": [
    {
     "name": "stdout",
     "output_type": "stream",
     "text": [
      "                                              Die WG  \\\n",
      "0   ; 22m² Zimmer in 5er WG ;  ; 5er WG ( 3 Fraue...   \n",
      "\n",
      "                                Gesucht wird  \\\n",
      "0  Geschlecht egal zwischen 20 und 27 Jahren   \n",
      "\n",
      "                                              Zimmer  \\\n",
      "0  Dein Zimmer ist - nach Max' Meinung ;) - das s...   \n",
      "\n",
      "                                                Lage  \\\n",
      "0  Die ehemalige Stadtvilla thront idyllisch hint...   \n",
      "\n",
      "                                            WG-Leben  \\\n",
      "0  Diese WG scheint immer wieder Menschen anzuzie...   \n",
      "\n",
      "                                      Sonstiges  \n",
      "0  Wir freuen uns über schriftliche Anfragen :)  \n"
     ]
    }
   ],
   "source": [
    "# Convert dictionary to data_frame\n",
    "# data_items = details_dict.items()\n",
    "# data_list = list(data_items)\n",
    "data_frame = pd.DataFrame([details_dict])\n",
    "print (data_frame)\n",
    "\n",
    "# Save to file with pickle in csv format\n",
    "# data_frame.to_pickle('descriptions')\n",
    "csv_path = '/Users/ummerabab-/Desktop/wg-gesucht/Code/dataset.csv'\n",
    "if(os.path.isfile(csv_path)):\n",
    "    data_frame.to_csv(csv_path, mode='a', encoding='latin1', index= False,header=False)\n",
    "else:\n",
    "    data_frame.to_csv(csv_path, encoding='latin1', index= False)\n",
    "#data_frame.to_csv(r'/Users/ummerabab-/Desktop/wg-gesucht/Code/dataset.csv', index = False)"
   ]
  },
  {
   "cell_type": "code",
   "execution_count": 317,
   "metadata": {},
   "outputs": [],
   "source": [
    "# driver = webdriver.Chrome()\n",
    "# driver.get(\"https://www.wg-gesucht.de/wg-zimmer-in-Passau.104.0.1.0.html\")\n",
    "# print(driver.title)"
   ]
  },
  {
   "cell_type": "code",
   "execution_count": null,
   "metadata": {},
   "outputs": [],
   "source": [
    "# def transform(driver):\n",
    "#     #/html/body/div[@id='master_wrapper']/div[@id='site_wrapper']/div[@id='main_content']/div[@id='main_column']/div[@id='liste-details-ad-7368387']/div[@class='row']/div[@class='col-sm-8 card_body']\n",
    "#     cards = driver.find_element_by_xpath(\"/html/body/div[@id='master_wrapper']/div[@id='site_wrapper']/div[@id='main_content']/div[@id='main_column']/div[@id='liste-details-ad-7368387']\")\n",
    "#     print(cards)\n",
    "#     cards.click()\n",
    "#     #return len(divs)\n",
    "\n",
    "# transform(driver)"
   ]
  },
  {
   "cell_type": "code",
   "execution_count": null,
   "metadata": {},
   "outputs": [],
   "source": [
    "#     h3 = []\n",
    "#     h4 = []\n",
    "#    for item in rows:\n",
    "        #print('This is an item' + str(item))\n",
    "#         try:\n",
    "#             #h3\n",
    "#             if item.find('div', class_ = 'col-xs-12'):\n",
    "#                 #h3.append(item.find('h3', class_ = 'headline headline-detailed-view-panel-title').text.strip())\n",
    "#                 h3.append(item.h3.text.strip())\n",
    "#                 #print(h3)\n",
    "#             #h4\n",
    "#             for col in item.find_all('div', class_ = 'col-sm-6'):\n",
    "#                 h4.append(h4.append(col.h4.text.strip()))\n",
    "\n",
    "#                 #h4.append(item.find_all('h4', class_ = 'headline headline-detailed-view-datasheet').text.strip())\n",
    "#                 #print(h4)\n",
    "\n",
    "#             description = item.find('p', class_ = 'freitext').text.strip().replace('\\n\\r\\n', '')\n",
    "#         except:\n",
    "#             description = ''\n",
    "        \n",
    "\n",
    "#         wg_list.append(h3)\n",
    "#         wg_list.append(h4)"
   ]
  }
 ],
 "metadata": {
  "kernelspec": {
   "display_name": "Python 3",
   "language": "python",
   "name": "python3"
  },
  "language_info": {
   "codemirror_mode": {
    "name": "ipython",
    "version": 3
   },
   "file_extension": ".py",
   "mimetype": "text/x-python",
   "name": "python",
   "nbconvert_exporter": "python",
   "pygments_lexer": "ipython3",
   "version": "3.8.3"
  }
 },
 "nbformat": 4,
 "nbformat_minor": 4
}
