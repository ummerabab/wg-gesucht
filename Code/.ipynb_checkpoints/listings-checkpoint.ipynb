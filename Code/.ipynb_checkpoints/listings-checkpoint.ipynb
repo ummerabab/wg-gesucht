{
 "cells": [
  {
   "cell_type": "code",
   "execution_count": 1,
   "metadata": {},
   "outputs": [],
   "source": [
    "# Load selenium components\n",
    "from selenium import webdriver"
   ]
  },
  {
   "cell_type": "code",
   "execution_count": 4,
   "metadata": {},
   "outputs": [],
   "source": [
    "def get_list(URL):\n",
    "\n",
    "    # Establish chrome driver and go to report site URL\n",
    "    driver = webdriver.Chrome()\n",
    "    driver.get(URL)\n",
    "    \n",
    "    listings_dict = {}\n",
    "    \n",
    "    name = []\n",
    "    title = []\n",
    "    url = []\n",
    "    \n",
    "    for ad in driver.find_elements_by_xpath(\"//div[contains(@class, 'wgg_card offer_list_item  ')]\"):\n",
    "\n",
    "        name.append(ad.find_element_by_xpath(\".//span[contains(@class, 'ml5')]\").get_attribute(\"innerHTML\"))\n",
    "        \n",
    "        title_str = ad.find_element_by_xpath(\".//h3[@class='truncate_title noprint']/a\")\n",
    "        title.append(title_str.get_attribute(\"innerHTML\").strip().replace('\\n',''))\n",
    "        \n",
    "        url.append(title_str.get_attribute(\"href\"))\n",
    "\n",
    "        \n",
    "        #driver.execute_script(\"window.open('\" + url +\"');\")\n",
    "    listings_dict['Name'] = name\n",
    "    listings_dict['Title'] = title\n",
    "    listings_dict['URL'] = url\n",
    "        \n",
    "    return(listings_dict)"
   ]
  },
  {
   "cell_type": "code",
   "execution_count": 5,
   "metadata": {},
   "outputs": [
    {
     "name": "stdout",
     "output_type": "stream",
     "text": [
      "{'Name': ['Nina Wucherer', 'Laura Vogt', 'Kirsten L.', 'Sven', 'Julia Steier', 'Annemarie Nemmer', 'Annemarie Nemmer', 'Marlene E.', 'Luisa Gerathewohl', 'Fernanda Gesellensetter', 'Naomi', 'Anastasia Roi', 'Emily Reif', 'Livia L.', 'Jasmin', 'Tobias Fuchs', 'Felicia', 'Lena', 'Maximilian Ederhof', 'Marie'], 'Title': ['Gemütliche WG im Herzen Passaus', 'Helles Zimmer in 3er WG', 'gemtütliches Zimmer in 3er-WG in der Innstadt', 'Zentral, möbliert &amp; super Ausblick 🤩', 'Schönes, helles 30qm Zimmer in der Altstadt', 'helles WG Zimmer Wohnung Passau Spitalhofstraße Haidenhof Nord 20 m² zentrumsnah Uninah', 'WG-Zimmer uni nah, hell, ruhig, gepflegt in großzügiger  82 m² Whg  altstadtnah  3-WG  Balkon Bad mit Fenster zentral', 'Schönes,Großes  WG-Zimmer in der Passauer Altstadt, bereit für neue/n Bewohner/-in', 'Direkt in der Altstadt, 24 qm', 'Möbliertes WG Zimmer in zentraler Lage', 'Helles Zimmer in 4er WG mit Garten', 'WG-Zimmer in einer modernen Wohnung in der Innstadt', 'Unmöbliertes Zimmer in der Innstadt', 'Schönes WG-Zimmer in der Altstadt zur Zwischenmiete', 'Helles WG-Zimmer in zentraler Lage', 'WG ZIMMER IN BESTER LAGE', 'Kleines aber feines Zimmer zu vergeben', 'Wg Zimmer 16,21 qm in bester Lage', 'Wunderschönes Zimmer mit Balkonzugang in zentraler Altbauvilla', '25 qm Wohlfühlzimmer in moderner 4er WG &amp; zentraler Lage'], 'URL': ['https://www.wg-gesucht.de/wg-zimmer-in-Passau-Altstadt.8731666.html', 'https://www.wg-gesucht.de/wg-zimmer-in-Passau-Haidenhof-Sud.8167415.html', 'https://www.wg-gesucht.de/wg-zimmer-in-Passau-Innstadt.8756077.html', 'https://www.wg-gesucht.de/wg-zimmer-in-Passau-Altstadt.8122628.html', 'https://www.wg-gesucht.de/wg-zimmer-in-Passau-Altstadt.8696626.html', 'https://www.wg-gesucht.de/wg-zimmer-in-Passau-Haidenhof-Nord.8513971.html', 'https://www.wg-gesucht.de/wg-zimmer-in-Passau-Altstadt.2599691.html', 'https://www.wg-gesucht.de/wg-zimmer-in-Passau-Altstadt.8756082.html', 'https://www.wg-gesucht.de/wg-zimmer-in-Passau-Altstadt.8729417.html', 'https://www.wg-gesucht.de/wg-zimmer-in-Passau-Altstadt.8737287.html', 'https://www.wg-gesucht.de/wg-zimmer-in-Passau-Haidenhof-Nord.8364490.html', 'https://www.wg-gesucht.de/wg-zimmer-in-Passau-Innstadt.8691467.html', 'https://www.wg-gesucht.de/wg-zimmer-in-Passau-Innstadt.8754971.html', 'https://www.wg-gesucht.de/wg-zimmer-in-Passau-Altstadt.8735426.html', 'https://www.wg-gesucht.de/wg-zimmer-in-Passau-Haidenhof-Nord.8716197.html', 'https://www.wg-gesucht.de/wg-zimmer-in-Passau-Altstadt.8755495.html', 'https://www.wg-gesucht.de/wg-zimmer-in-Passau-Haidenhof-Nord.6792460.html', 'https://www.wg-gesucht.de/wg-zimmer-in-Passau-Innstadt.8749564.html', 'https://www.wg-gesucht.de/wg-zimmer-in-Passau-Haidenhof-Sud.8691963.html', 'https://www.wg-gesucht.de/wg-zimmer-in-Passau-Altstadt.8728196.html']}\n"
     ]
    }
   ],
   "source": [
    "URL = \"https://www.wg-gesucht.de/wg-zimmer-in-Passau.104.0.1.0.html\"\n",
    "print(get_list(URL))\n"
   ]
  },
  {
   "cell_type": "code",
   "execution_count": null,
   "metadata": {},
   "outputs": [],
   "source": []
  }
 ],
 "metadata": {
  "kernelspec": {
   "display_name": "Python 3",
   "language": "python",
   "name": "python3"
  },
  "language_info": {
   "codemirror_mode": {
    "name": "ipython",
    "version": 3
   },
   "file_extension": ".py",
   "mimetype": "text/x-python",
   "name": "python",
   "nbconvert_exporter": "python",
   "pygments_lexer": "ipython3",
   "version": "3.8.3"
  }
 },
 "nbformat": 4,
 "nbformat_minor": 4
}
