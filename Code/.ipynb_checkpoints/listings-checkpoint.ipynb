{
 "cells": [
  {
   "cell_type": "code",
   "execution_count": null,
   "metadata": {},
   "outputs": [],
   "source": [
    "#Importing required libraries\n",
    "import os.path\n",
    "import pickle5 as pickle\n",
    "\n",
    "# Load selenium components\n",
    "from selenium import webdriver"
   ]
  },
  {
   "cell_type": "code",
   "execution_count": null,
   "metadata": {},
   "outputs": [],
   "source": [
    "# Function to retrieve all advertisements in the page.\n",
    "\n",
    "def get_list(URL):\n",
    "\n",
    "    # Initialise dictionary to return\n",
    "    listings_dict = {}\n",
    "    \n",
    "    # Establish chrome driver and go to report site URL\n",
    "    driver = webdriver.Chrome()\n",
    "    driver.get(URL)\n",
    "    \n",
    "    #pickle_path = '/Users/ummerabab-/Desktop/wg-gesucht/Code/cookies.pkl'\n",
    "    try:\n",
    "        #Load saved cookies\n",
    "        cookies = pickle.load(open(\"cookies.pkl\", \"rb\"))\n",
    "        for cookie in cookies:\n",
    "            driver.add_cookie(cookie)    \n",
    "    except (OSError, IOError) as e:\n",
    "        #Save cookies\n",
    "        pickle.dump( driver.get_cookies() , open(\"cookies.pkl\",\"wb\"))\n",
    "\n",
    "\n",
    "    name = []\n",
    "    title = []\n",
    "    url = []\n",
    "    \n",
    "    for ad in driver.find_elements_by_xpath(\"//div[contains(@class, 'wgg_card offer_list_item  ')]\"):\n",
    "\n",
    "        name.append(ad.find_element_by_xpath(\".//span[contains(@class, 'ml5')]\").get_attribute(\"innerHTML\"))\n",
    "        \n",
    "        title_str = ad.find_element_by_xpath(\".//h3[@class='truncate_title noprint']/a\")\n",
    "        title.append(title_str.get_attribute(\"innerHTML\").strip().replace('\\n',''))\n",
    "        \n",
    "        url.append(title_str.get_attribute(\"href\"))\n",
    "\n",
    "        \n",
    "        #driver.execute_script(\"window.open('\" + url +\"');\")\n",
    "    listings_dict['Name'] = name\n",
    "    listings_dict['Title'] = title\n",
    "    listings_dict['URL'] = url\n",
    "    \n",
    "    return(listings_dict)"
   ]
  },
  {
   "cell_type": "code",
   "execution_count": null,
   "metadata": {},
   "outputs": [],
   "source": [
    "#URL = \"https://www.wg-gesucht.de/wg-zimmer-in-Passau.104.0.1.0.html\"\n",
    "#print(get_list(URL))"
   ]
  }
 ],
 "metadata": {
  "kernelspec": {
   "display_name": "Python 3",
   "language": "python",
   "name": "python3"
  },
  "language_info": {
   "codemirror_mode": {
    "name": "ipython",
    "version": 3
   },
   "file_extension": ".py",
   "mimetype": "text/x-python",
   "name": "python",
   "nbconvert_exporter": "python",
   "pygments_lexer": "ipython3",
   "version": "3.8.3"
  }
 },
 "nbformat": 4,
 "nbformat_minor": 4
}
