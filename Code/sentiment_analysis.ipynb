{
 "cells": [
  {
   "cell_type": "code",
   "execution_count": 1,
   "metadata": {},
   "outputs": [],
   "source": [
    "import pickle5 as pickle\n",
    "import pandas as pd"
   ]
  },
  {
   "cell_type": "code",
   "execution_count": 4,
   "metadata": {},
   "outputs": [
    {
     "name": "stdout",
     "output_type": "stream",
     "text": [
      "                                              Zimmer  \\\n",
      "0  Da wir zwei (Sara, Judith) mit dem Studium fer...   \n",
      "\n",
      "                                                Lage  \\\n",
      "0  Eine Bushaltestelle befindet sich etwa drei Mi...   \n",
      "\n",
      "                                            WG-Leben  \\\n",
      "0  Unsere Mitbewohnerin Sica (22) studiert KuWi i...   \n",
      "\n",
      "                                           Sonstiges  \n",
      "0  Das Bett und ggf. weitere Möbel könntest du be...  \n"
     ]
    }
   ],
   "source": [
    "# Retrieve data_frame from file\n",
    "\n",
    "\n",
    "data_frame = pd.read_pickle('descriptions')\n",
    "print(data_frame)"
   ]
  },
  {
   "cell_type": "code",
   "execution_count": null,
   "metadata": {},
   "outputs": [],
   "source": []
  }
 ],
 "metadata": {
  "kernelspec": {
   "display_name": "Python 3",
   "language": "python",
   "name": "python3"
  },
  "language_info": {
   "codemirror_mode": {
    "name": "ipython",
    "version": 3
   },
   "file_extension": ".py",
   "mimetype": "text/x-python",
   "name": "python",
   "nbconvert_exporter": "python",
   "pygments_lexer": "ipython3",
   "version": "3.8.3"
  }
 },
 "nbformat": 4,
 "nbformat_minor": 4
}
