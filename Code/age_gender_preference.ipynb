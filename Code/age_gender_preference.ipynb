{
 "cells": [
  {
   "cell_type": "code",
   "execution_count": 18,
   "metadata": {},
   "outputs": [],
   "source": [
    "import pandas as pd\n",
    "from pathlib import Path"
   ]
  },
  {
   "cell_type": "code",
   "execution_count": 34,
   "metadata": {},
   "outputs": [
    {
     "name": "stdout",
     "output_type": "stream",
     "text": [
      "dict_values(['Geschlecht egal zwischen 18 und 26 Jahren', 'Geschlecht egal zwischen 18 und 28 Jahren', 'Geschlecht egal zwischen 18 und 28 Jahren', 'Geschlecht egal zwischen 18 und 30 Jahren', 'Geschlecht egal', 'Geschlecht egal', 'Geschlecht egal zwischen 18 und 27 Jahren', 'Geschlecht egal zwischen 18 und 30 Jahren', 'Geschlecht egal zwischen 18 und 30 Jahren', 'Geschlecht egal zwischen 18 und 25 Jahren', 'Geschlecht egal', 'Geschlecht egal zwischen 20 und 27 Jahren', 'Geschlecht egal zwischen 18 und 24 Jahren', 'Geschlecht egal', 'Geschlecht egal zwischen 18 und 27 Jahren', 'Geschlecht egal', 'Geschlecht egal zwischen 18 und 30 Jahren', 'Geschlecht egal zwischen 20 und 30 Jahren', 'Geschlecht egal zwischen 18 und 30 Jahren', 'Geschlecht egal zwischen 18 und 30 Jahren', 'Geschlecht egal zwischen 20 und 28 Jahren', 'Geschlecht egal zwischen 17 und 30 Jahren', 'Geschlecht egal zwischen 18 und 25 Jahren', 'Geschlecht egal', 'Geschlecht egal zwischen 18 und 35 Jahren', 'Geschlecht egal zwischen 20 und 32 Jahren', 'Geschlecht egal', 'Geschlecht egal zwischen 18 und 30 Jahren', 'Geschlecht egal', 'Geschlecht egal zwischen 18 und 30 Jahren', 'Geschlecht egal zwischen 18 und 30 Jahren', 'Geschlecht egal zwischen 18 und 28 Jahren', 'Geschlecht egal', 'Geschlecht egal zwischen 18 und 25 Jahren', 'Geschlecht egal zwischen 19 und 25 Jahren', 'Geschlecht egal', 'Geschlecht egal bis 28 Jahren', 'Geschlecht egal zwischen 18 und 25 Jahren', 'Geschlecht egal', 'Geschlecht egal zwischen 18 und 28 Jahren', 'Geschlecht egal', 'Geschlecht egal zwischen 19 und 26 Jahren', 'Geschlecht egal zwischen 22 und 26 Jahren', 'Geschlecht egal zwischen 18 und 30 Jahren', 'Geschlecht egal zwischen 19 und 26 Jahren', 'Geschlecht egal', 'Geschlecht egal zwischen 18 und 24 Jahren', 'Geschlecht egal', 'Geschlecht egal', 'Geschlecht egal', 'Frau zwischen 19 und 28 Jahren', 'Geschlecht egal zwischen 20 und 27 Jahren', 'Geschlecht egal', 'Geschlecht egal zwischen 20 und 25 Jahren', 'Geschlecht egal', 'Geschlecht egal', 'Geschlecht egal zwischen 16 und 30 Jahren', 'Geschlecht egal zwischen 22 und 28 Jahren', 'Frau', 'Geschlecht egal zwischen 20 und 25 Jahren', 'Geschlecht egal', 'Geschlecht egal', 'Geschlecht egal zwischen 16 und 30 Jahren', 'Geschlecht egal zwischen 22 und 28 Jahren', 'Frau', 'Geschlecht egal zwischen 18 und 25 Jahren', 'Geschlecht egal zwischen 19 und 29 Jahren', 'Frau', 'Geschlecht egal', 'Frau zwischen 18 und 30 Jahren', 'Geschlecht egal zwischen 20 und 27 Jahren', 'Geschlecht egal zwischen 18 und 28 Jahren', 'Mann zwischen 20 und 30 Jahren', 'Geschlecht egal', 'Geschlecht egal zwischen 18 und 30 Jahren', 'Mann zwischen 20 und 28 Jahren', 'Geschlecht egal zwischen 18 und 25 Jahren', 'Geschlecht egal', 'Frau zwischen 19 und 27 Jahren', 'Frau zwischen 19 und 27 Jahren', 'Geschlecht egal zwischen 21 und 25 Jahren', 'Geschlecht egal zwischen 18 und 29 Jahren', 'Frau', 'Geschlecht egal zwischen 18 und 28 Jahren', 'Geschlecht egal', 'Geschlecht egal', 'Geschlecht egal zwischen 18 und 35 Jahren', 'Geschlecht egal bis 30 Jahren', 'Geschlecht egal zwischen 18 und 30 Jahren', 'Geschlecht egal', 'Frau zwischen 18 und 28 Jahren', 'Geschlecht egal', 'Geschlecht egal', 'Geschlecht egal', 'Geschlecht egal', 'Frau', 'Geschlecht egal zwischen 19 und 28 Jahren', 'Geschlecht egal'])\n"
     ]
    }
   ],
   "source": [
    "# Returns a Pathlib object\n",
    "path = Path('/Users/ummerabab-/Desktop/wg-gesucht/Datasets/dataset_passau.csv')\n",
    "path.exists ()\n",
    "\n",
    "df = pd.read_csv(path)\n",
    "data_dict = df.to_dict()\n",
    "#print(data_dict)\n",
    "gesucht_wird = data_dict['Gesucht_wird'].values()\n",
    "#print(gesucht_wird)"
   ]
  },
  {
   "cell_type": "code",
   "execution_count": 36,
   "metadata": {},
   "outputs": [
    {
     "name": "stdout",
     "output_type": "stream",
     "text": [
      "['Geschlecht egal zwischen 18 und 26 Jahren', 'Geschlecht egal zwischen 18 und 28 Jahren', 'Geschlecht egal zwischen 18 und 28 Jahren', 'Geschlecht egal zwischen 18 und 30 Jahren', 'Geschlecht egal', 'Geschlecht egal', 'Geschlecht egal zwischen 18 und 27 Jahren', 'Geschlecht egal zwischen 18 und 30 Jahren', 'Geschlecht egal zwischen 18 und 30 Jahren', 'Geschlecht egal zwischen 18 und 25 Jahren', 'Geschlecht egal', 'Geschlecht egal zwischen 20 und 27 Jahren', 'Geschlecht egal zwischen 18 und 24 Jahren', 'Geschlecht egal', 'Geschlecht egal zwischen 18 und 27 Jahren', 'Geschlecht egal', 'Geschlecht egal zwischen 18 und 30 Jahren', 'Geschlecht egal zwischen 20 und 30 Jahren', 'Geschlecht egal zwischen 18 und 30 Jahren', 'Geschlecht egal zwischen 18 und 30 Jahren', 'Geschlecht egal zwischen 20 und 28 Jahren', 'Geschlecht egal zwischen 17 und 30 Jahren', 'Geschlecht egal zwischen 18 und 25 Jahren', 'Geschlecht egal', 'Geschlecht egal zwischen 18 und 35 Jahren', 'Geschlecht egal zwischen 20 und 32 Jahren', 'Geschlecht egal', 'Geschlecht egal zwischen 18 und 30 Jahren', 'Geschlecht egal', 'Geschlecht egal zwischen 18 und 30 Jahren', 'Geschlecht egal zwischen 18 und 30 Jahren', 'Geschlecht egal zwischen 18 und 28 Jahren', 'Geschlecht egal', 'Geschlecht egal zwischen 18 und 25 Jahren', 'Geschlecht egal zwischen 19 und 25 Jahren', 'Geschlecht egal', 'Geschlecht egal bis 28 Jahren', 'Geschlecht egal zwischen 18 und 25 Jahren', 'Geschlecht egal', 'Geschlecht egal zwischen 18 und 28 Jahren', 'Geschlecht egal', 'Geschlecht egal zwischen 19 und 26 Jahren', 'Geschlecht egal zwischen 22 und 26 Jahren', 'Geschlecht egal zwischen 18 und 30 Jahren', 'Geschlecht egal zwischen 19 und 26 Jahren', 'Geschlecht egal', 'Geschlecht egal zwischen 18 und 24 Jahren', 'Geschlecht egal', 'Geschlecht egal', 'Geschlecht egal', 'Geschlecht egal zwischen 20 und 27 Jahren', 'Geschlecht egal', 'Geschlecht egal zwischen 20 und 25 Jahren', 'Geschlecht egal', 'Geschlecht egal', 'Geschlecht egal zwischen 16 und 30 Jahren', 'Geschlecht egal zwischen 22 und 28 Jahren', 'Geschlecht egal zwischen 20 und 25 Jahren', 'Geschlecht egal', 'Geschlecht egal', 'Geschlecht egal zwischen 16 und 30 Jahren', 'Geschlecht egal zwischen 22 und 28 Jahren', 'Geschlecht egal zwischen 18 und 25 Jahren', 'Geschlecht egal zwischen 19 und 29 Jahren', 'Geschlecht egal', 'Geschlecht egal zwischen 20 und 27 Jahren', 'Geschlecht egal zwischen 18 und 28 Jahren', 'Geschlecht egal', 'Geschlecht egal zwischen 18 und 30 Jahren', 'Geschlecht egal zwischen 18 und 25 Jahren', 'Geschlecht egal', 'Geschlecht egal zwischen 21 und 25 Jahren', 'Geschlecht egal zwischen 18 und 29 Jahren', 'Geschlecht egal zwischen 18 und 28 Jahren', 'Geschlecht egal', 'Geschlecht egal', 'Geschlecht egal zwischen 18 und 35 Jahren', 'Geschlecht egal bis 30 Jahren', 'Geschlecht egal zwischen 18 und 30 Jahren', 'Geschlecht egal', 'Geschlecht egal', 'Geschlecht egal', 'Geschlecht egal', 'Geschlecht egal', 'Geschlecht egal zwischen 19 und 28 Jahren', 'Geschlecht egal']\n"
     ]
    }
   ],
   "source": [
    "egal_array = []\n",
    "frau_array = []\n",
    "man_array = []\n",
    "\n",
    "for item in gesucht_wird:\n",
    "    #print(item)\n",
    "    if 'egal' in item:\n",
    "        egal_array.append(item)\n",
    "    elif 'frau' in item:\n",
    "        egal_array.append(item)\n",
    "    elif 'Man' in item:\n",
    "        egal_array.append(item)\n",
    "    \n",
    "        \n",
    "print(egal_array)"
   ]
  },
  {
   "cell_type": "code",
   "execution_count": null,
   "metadata": {},
   "outputs": [],
   "source": []
  }
 ],
 "metadata": {
  "kernelspec": {
   "display_name": "Python 3",
   "language": "python",
   "name": "python3"
  },
  "language_info": {
   "codemirror_mode": {
    "name": "ipython",
    "version": 3
   },
   "file_extension": ".py",
   "mimetype": "text/x-python",
   "name": "python",
   "nbconvert_exporter": "python",
   "pygments_lexer": "ipython3",
   "version": "3.8.3"
  }
 },
 "nbformat": 4,
 "nbformat_minor": 4
}
