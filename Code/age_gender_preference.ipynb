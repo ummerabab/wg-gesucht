{
 "cells": [
  {
   "cell_type": "code",
   "execution_count": 2,
   "metadata": {},
   "outputs": [],
   "source": [
    "#Importing required libraries\n",
    "\n",
    "import numpy as np\n",
    "import pandas as pd\n",
    "import matplotlib.pyplot as plt\n",
    "from pathlib import Path"
   ]
  },
  {
   "cell_type": "code",
   "execution_count": 3,
   "metadata": {},
   "outputs": [],
   "source": [
    "# Returns a Pathlib object where the dataset is stored\n",
    "\n",
    "path = Path('/Users/ummerabab-/Desktop/wg-gesucht/Code/dataset_P+R.csv')\n",
    "path.exists ()\n",
    "\n",
    "# Extract data from .csv to data frame and then to dictionary\n",
    "\n",
    "df = pd.read_csv(path)\n",
    "data_dict = df.to_dict()\n",
    "#print(data_dict)\n",
    "gesucht_wird = data_dict['Gesucht_wird'].values()\n",
    "#print(gesucht_wird)"
   ]
  },
  {
   "cell_type": "code",
   "execution_count": 4,
   "metadata": {
    "scrolled": true
   },
   "outputs": [
    {
     "name": "stdout",
     "output_type": "stream",
     "text": [
      "{171: 'Geschlecht egal', 19: 'Frau', 8: 'Man'}\n"
     ]
    }
   ],
   "source": [
    "# Loop through values in 'gesucht_wird' column\n",
    "\n",
    "ag_dict = {}\n",
    "egal_count = 0\n",
    "frau_count = 0\n",
    "man_count = 0\n",
    "age_array = []\n",
    "\n",
    "\n",
    "for item in gesucht_wird:\n",
    "    #print(item)\n",
    "    egal_list = []\n",
    "    frau_list = []\n",
    "    man_list = []\n",
    "    \n",
    "    \n",
    "    if 'geschlecht egal' in item.lower():\n",
    "        egal_count += 1\n",
    "#        egal_list.append('Geschlecht egal')\n",
    "#        egal_list.append([int(num) for num in item.split() if num.isdigit()])\n",
    "    elif 'frau' in item.lower():\n",
    "        frau_count += 1\n",
    "#        frau_list.append('Frau')\n",
    "#        frau_list.append([int(num) for num in item.split() if num.isdigit()])\n",
    "    elif 'man' in item.lower():\n",
    "        man_count += 1\n",
    "#        man_list.insert(0, 'Man')\n",
    "#        man_list.append([int(num) for num in item.split() if num.isdigit()])\n",
    "    \n",
    "\n",
    "\n",
    "ag_dict[egal_count] = 'Geschlecht egal'\n",
    "ag_dict[frau_count] = 'Frau'\n",
    "ag_dict[man_count] = 'Man'\n",
    "print(ag_dict)"
   ]
  },
  {
   "cell_type": "code",
   "execution_count": 5,
   "metadata": {},
   "outputs": [
    {
     "data": {
      "image/png": "[encoded data removed]",
      "text/plain": [
       "<Figure size 720x360 with 1 Axes>"
      ]
     },
     "metadata": {
      "needs_background": "light"
     },
     "output_type": "display_data"
    }
   ],
   "source": [
    "# Plotting the graph\n",
    "\n",
    "age = list(ag_dict.keys())\n",
    "gender = list(ag_dict.values())\n",
    "\n",
    "fig = plt.figure(figsize = (10, 5))\n",
    " \n",
    "# Creating the bar plot\n",
    "plt.bar(gender, age, color ='maroon',\n",
    "        width = 0.4)\n",
    " \n",
    "plt.xlabel(\"Preferred gender\")\n",
    "plt.ylabel(\"No. of advertisements\")\n",
    "plt.show()"
   ]
  },
  {
   "cell_type": "code",
   "execution_count": 54,
   "metadata": {},
   "outputs": [
    {
     "name": "stdout",
     "output_type": "stream",
     "text": [
      "[[18, 26], [18, 28], [18, 28], [18, 30], [], [], [18, 27], [18, 30], [18, 30], [18, 25], [], [20, 27], [18, 24], [], [18, 27], [], [18, 30], [20, 30], [18, 30], [18, 30], [20, 28], [17, 30], [18, 25], [], [18, 35], [20, 32], [], [18, 30], [], [18, 30], [18, 30], [18, 28], [], [18, 25], [19, 25], [], [28], [18, 25], [], [18, 28], [], [19, 26], [22, 26], [18, 30], [19, 26], [], [18, 24], [], [], [], [19, 28], [20, 27], [], [20, 25], [], [], [16, 30], [22, 28], [], [20, 25], [], [], [16, 30], [22, 28], [], [18, 25], [19, 29], [], [], [18, 30], [20, 27], [18, 28], [20, 30], [], [18, 30], [20, 28], [18, 25], [], [19, 27], [19, 27], [21, 25], [18, 29], [], [18, 28], [], [], [18, 35], [30], [18, 30], [], [18, 28], [], [], [], [], [], [19, 28], [], [18, 25], [20, 28], [], [20, 33], [], [18, 25], [20, 30], [], [], [20, 35], [18, 40], [20, 30], [20, 40], [21, 30], [], [26, 36], [22, 28], [20, 27], [20, 30], [23], [23], [20, 30], [20, 30], [22, 30], [25, 35], [], [20, 35], [], [20, 35], [20, 25], [23, 30], [], [], [], [19, 25], [], [], [18, 99], [18, 99], [19, 25], [18, 99], [18, 99], [19, 25], [23, 35], [], [29, 60], [], [], [18, 23], [19, 35], [20, 30], [], [18, 29], [18, 35], [22], [25, 35], [18, 30], [20, 30], [20, 30], [18, 25], [20, 30], [20, 30], [18, 25], [], [], [], [20, 24], [25, 50], [], [25, 40], [], [20, 30], [21, 27], [28, 38], [], [18, 26], [24, 32], [18, 26], [23, 40], [20, 28], [], [18, 25], [21, 25], [], [19, 29], [21, 25], [21, 99], [18, 30], [], [], [26, 38], [22, 26], [22, 26], [], [], [18, 30], [], [19, 29], [18, 26], [20, 30]]\n"
     ]
    }
   ],
   "source": [
    "ag_array = []\n",
    "\n",
    "\n",
    "for item in gesucht_wird:\n",
    "    #print(item)\n",
    "    ag_list = [int(num) for num in item.split() if num.isdigit()]            \n",
    "    ag_array.append(ag_list)\n",
    "    \n",
    "\n",
    "print(ag_array)"
   ]
  },
  {
   "cell_type": "code",
   "execution_count": 62,
   "metadata": {},
   "outputs": [
    {
     "name": "stdout",
     "output_type": "stream",
     "text": [
      "66\n",
      "127\n",
      "[26, 28, 28, 30, 27, 30, 30, 25, 27, 24, 27, 30, 30, 30, 30, 28, 30, 25, 35, 32, 30, 30, 30, 28, 25, 25, 25, 28, 26, 26, 30, 26, 24, 28, 27, 25, 30, 28, 25, 30, 28, 25, 29, 30, 27, 28, 30, 30, 28, 25, 27, 27, 25, 29, 28, 35, 30, 28, 28, 25, 28, 33, 25, 30, 35, 40, 30, 40, 30, 36, 28, 27, 30, 30, 30, 30, 35, 35, 35, 25, 30, 25, 99, 99, 25, 99, 99, 25, 35, 60, 23, 35, 30, 29, 35, 35, 30, 30, 30, 25, 30, 30, 25, 24, 50, 40, 30, 27, 38, 26, 32, 26, 40, 28, 25, 25, 29, 25, 99, 30, 38, 26, 26, 30, 29, 26, 30]\n"
     ]
    }
   ],
   "source": [
    "min_age = []\n",
    "max_age = []\n",
    "no_age = 0\n",
    "\n",
    "for item in ag_array:\n",
    "    #print(item)\n",
    "    if not item:\n",
    "        no_age += 1\n",
    "    else:\n",
    "        if (len(item) == 2):\n",
    "            min_age.append(item[0])\n",
    "            max_age.append(item[1])\n",
    "            \n",
    "\n",
    "print(no_age)\n",
    "print(min_age)\n",
    "print(max_age)"
   ]
  },
  {
   "cell_type": "code",
   "execution_count": 69,
   "metadata": {},
   "outputs": [
    {
     "data": {
      "text/plain": [
       "{'whiskers': [<matplotlib.lines.Line2D at 0x7fecb23b8dc0>,\n",
       "  <matplotlib.lines.Line2D at 0x7fecb23c6160>],\n",
       " 'caps': [<matplotlib.lines.Line2D at 0x7fecb23c64c0>,\n",
       "  <matplotlib.lines.Line2D at 0x7fecb23c6820>],\n",
       " 'boxes': [<matplotlib.lines.Line2D at 0x7fecb23b8a60>],\n",
       " 'medians': [<matplotlib.lines.Line2D at 0x7fecb23c6b80>],\n",
       " 'fliers': [<matplotlib.lines.Line2D at 0x7fecb23c6e80>],\n",
       " 'means': []}"
      ]
     },
     "execution_count": 69,
     "metadata": {},
     "output_type": "execute_result"
    },
    {
     "data": {
      "image/png": "[encoded data removed]",
      "text/plain": [
       "<Figure size 432x288 with 1 Axes>"
      ]
     },
     "metadata": {
      "needs_background": "light"
     },
     "output_type": "display_data"
    }
   ],
   "source": [
    "plt.boxplot(min_age)"
   ]
  },
  {
   "cell_type": "code",
   "execution_count": 70,
   "metadata": {},
   "outputs": [
    {
     "data": {
      "text/plain": [
       "{'whiskers': [<matplotlib.lines.Line2D at 0x7fecb2418730>,\n",
       "  <matplotlib.lines.Line2D at 0x7fecb2418a90>],\n",
       " 'caps': [<matplotlib.lines.Line2D at 0x7fecb2418df0>,\n",
       "  <matplotlib.lines.Line2D at 0x7fecb2425190>],\n",
       " 'boxes': [<matplotlib.lines.Line2D at 0x7fecb24183d0>],\n",
       " 'medians': [<matplotlib.lines.Line2D at 0x7fecb24254f0>],\n",
       " 'fliers': [<matplotlib.lines.Line2D at 0x7fecb24257f0>],\n",
       " 'means': []}"
      ]
     },
     "execution_count": 70,
     "metadata": {},
     "output_type": "execute_result"
    },
    {
     "data": {
      "image/png": "[encoded data removed]",
      "text/plain": [
       "<Figure size 432x288 with 1 Axes>"
      ]
     },
     "metadata": {
      "needs_background": "light"
     },
     "output_type": "display_data"
    }
   ],
   "source": [
    "plt.boxplot(max_age)"
   ]
  },
  {
   "cell_type": "code",
   "execution_count": null,
   "metadata": {},
   "outputs": [],
   "source": [
    "# Statistical testing"
   ]
  }
 ],
 "metadata": {
  "kernelspec": {
   "display_name": "Python 3",
   "language": "python",
   "name": "python3"
  },
  "language_info": {
   "codemirror_mode": {
    "name": "ipython",
    "version": 3
   },
   "file_extension": ".py",
   "mimetype": "text/x-python",
   "name": "python",
   "nbconvert_exporter": "python",
   "pygments_lexer": "ipython3",
   "version": "3.8.3"
  }
 },
 "nbformat": 4,
 "nbformat_minor": 4
}
