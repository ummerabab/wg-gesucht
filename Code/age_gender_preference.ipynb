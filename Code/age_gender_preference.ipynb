{
 "cells": [
  {
   "cell_type": "code",
   "execution_count": 95,
   "metadata": {},
   "outputs": [],
   "source": [
    "import numpy as np\n",
    "import pandas as pd\n",
    "import matplotlib.pyplot as plt\n",
    "from pathlib import Path"
   ]
  },
  {
   "cell_type": "code",
   "execution_count": 96,
   "metadata": {},
   "outputs": [],
   "source": [
    "# Returns a Pathlib object\n",
    "path = Path('/Users/ummerabab-/Desktop/wg-gesucht/Code/dataset_P+R.csv')\n",
    "path.exists ()\n",
    "\n",
    "df = pd.read_csv(path)\n",
    "data_dict = df.to_dict()\n",
    "#print(data_dict)\n",
    "gesucht_wird = data_dict['Gesucht_wird'].values()\n",
    "#print(gesucht_wird)"
   ]
  },
  {
   "cell_type": "code",
   "execution_count": 97,
   "metadata": {
    "scrolled": true
   },
   "outputs": [
    {
     "name": "stdout",
     "output_type": "stream",
     "text": [
      "{171: 'Geschlecht egal', 19: 'Frau', 8: 'Man'}\n"
     ]
    }
   ],
   "source": [
    "ag_dict = {}\n",
    "egal_count = 0\n",
    "frau_count = 0\n",
    "man_count = 0\n",
    "age_array = []\n",
    "\n",
    "\n",
    "for item in gesucht_wird:\n",
    "    #print(item)\n",
    "    egal_list = []\n",
    "    frau_list = []\n",
    "    man_list = []\n",
    "    \n",
    "    \n",
    "    if 'geschlecht egal' in item.lower():\n",
    "        egal_count += 1\n",
    "#        egal_list.append('Geschlecht egal')\n",
    "#        egal_list.append([int(num) for num in item.split() if num.isdigit()])\n",
    "    elif 'frau' in item.lower():\n",
    "        frau_count += 1\n",
    "#        frau_list.append('Frau')\n",
    "#        frau_list.append([int(num) for num in item.split() if num.isdigit()])\n",
    "    elif 'man' in item.lower():\n",
    "        man_count += 1\n",
    "#        man_list.insert(0, 'Man')\n",
    "#        man_list.append([int(num) for num in item.split() if num.isdigit()])\n",
    "    \n",
    "\n",
    "\n",
    "ag_dict[egal_count] = 'Geschlecht egal'\n",
    "ag_dict[frau_count] = 'Frau'\n",
    "ag_dict[man_count] = 'Man'\n",
    "print(ag_dict)"
   ]
  },
  {
   "cell_type": "code",
   "execution_count": 99,
   "metadata": {},
   "outputs": [
    {
     "data": {
      "image/png": "[encoded data removed]",
      "text/plain": [
       "<Figure size 720x360 with 1 Axes>"
      ]
     },
     "metadata": {
      "needs_background": "light"
     },
     "output_type": "display_data"
    }
   ],
   "source": [
    "# Plotting the graph\n",
    "\n",
    "# data = {'C':20, 'C++':15, 'Java':30,\n",
    "#         'Python':35}\n",
    "# courses = list(data.keys())\n",
    "# values = list(data.values())\n",
    "age = list(ag_dict.keys())\n",
    "gender = list(ag_dict.values())\n",
    "\n",
    "fig = plt.figure(figsize = (10, 5))\n",
    " \n",
    "# creating the bar plot\n",
    "plt.bar(gender, age, color ='maroon',\n",
    "        width = 0.4)\n",
    " \n",
    "plt.xlabel(\"Preferred gender\")\n",
    "plt.ylabel(\"No. of advertisements\")\n",
    "#plt.title(\"Students enrolled in different courses\")\n",
    "plt.show()"
   ]
  },
  {
   "cell_type": "code",
   "execution_count": 101,
   "metadata": {},
   "outputs": [
    {
     "name": "stdout",
     "output_type": "stream",
     "text": [
      "[[18, 26], [18, 28], [18, 28], [18, 30], [], [], [18, 27], [18, 30], [18, 30], [18, 25], [], [20, 27], [18, 24], [], [18, 27], [], [18, 30], [20, 30], [18, 30], [18, 30], [20, 28], [17, 30], [18, 25], [], [18, 35], [20, 32], [], [18, 30], [], [18, 30], [18, 30], [18, 28], [], [18, 25], [19, 25], [], [28], [18, 25], [], [18, 28], [], [19, 26], [22, 26], [18, 30], [19, 26], [], [18, 24], [], [], [], [19, 28], [20, 27], [], [20, 25], [], [], [16, 30], [22, 28], [], [20, 25], [], [], [16, 30], [22, 28], [], [18, 25], [19, 29], [], [], [18, 30], [20, 27], [18, 28], [20, 30], [], [18, 30], [20, 28], [18, 25], [], [19, 27], [19, 27], [21, 25], [18, 29], [], [18, 28], [], [], [18, 35], [30], [18, 30], [], [18, 28], [], [], [], [], [], [19, 28], [], [18, 25], [20, 28], [], [20, 33], [], [18, 25], [20, 30], [], [], [20, 35], [18, 40], [20, 30], [20, 40], [21, 30], [], [26, 36], [22, 28], [20, 27], [20, 30], [23], [23], [20, 30], [20, 30], [22, 30], [25, 35], [], [20, 35], [], [20, 35], [20, 25], [23, 30], [], [], [], [19, 25], [], [], [18, 99], [18, 99], [19, 25], [18, 99], [18, 99], [19, 25], [23, 35], [], [29, 60], [], [], [18, 23], [19, 35], [20, 30], [], [18, 29], [18, 35], [22], [25, 35], [18, 30], [20, 30], [20, 30], [18, 25], [20, 30], [20, 30], [18, 25], [], [], [], [20, 24], [25, 50], [], [25, 40], [], [20, 30], [21, 27], [28, 38], [], [18, 26], [24, 32], [18, 26], [23, 40], [20, 28], [], [18, 25], [21, 25], [], [19, 29], [21, 25], [21, 99], [18, 30], [], [], [26, 38], [22, 26], [22, 26], [], [], [18, 30], [], [19, 29], [18, 26], [20, 30]]\n"
     ]
    }
   ],
   "source": [
    "ag_array = []\n",
    "\n",
    "for item in gesucht_wird:\n",
    "    #print(item)\n",
    "    \n",
    "    ag_list = [int(num) for num in item.split() if num.isdigit()]\n",
    "    \n",
    "#     if 'geschlecht egal' in item.lower():\n",
    "#         ag_list.insert(0, 'Geschlecht egal')\n",
    "#     elif 'frau' in item.lower():\n",
    "#         ag_list.insert(0, 'Frau')\n",
    "#     elif 'man' in item.lower():\n",
    "#         ag_list.insert(0, 'Man')\n",
    "    \n",
    "    ag_array.append(ag_list)\n",
    "    \n",
    "\n",
    "print(ag_array)"
   ]
  },
  {
   "cell_type": "code",
   "execution_count": 98,
   "metadata": {
    "scrolled": false
   },
   "outputs": [],
   "source": [
    "#xs, ys = [*zip(*alter_geschlecht_array)]\n",
    "#plt.bar(xs, ys)"
   ]
  }
 ],
 "metadata": {
  "kernelspec": {
   "display_name": "Python 3",
   "language": "python",
   "name": "python3"
  },
  "language_info": {
   "codemirror_mode": {
    "name": "ipython",
    "version": 3
   },
   "file_extension": ".py",
   "mimetype": "text/x-python",
   "name": "python",
   "nbconvert_exporter": "python",
   "pygments_lexer": "ipython3",
   "version": "3.8.3"
  }
 },
 "nbformat": 4,
 "nbformat_minor": 4
}
