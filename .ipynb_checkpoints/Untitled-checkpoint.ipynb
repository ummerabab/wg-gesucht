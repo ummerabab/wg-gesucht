{
 "cells": [
  {
   "cell_type": "code",
   "execution_count": 33,
   "metadata": {},
   "outputs": [],
   "source": [
    "# https://www.youtube.com/watch?v=PPcgtx0sI2E\n",
    "\n",
    "import requests\n",
    "from bs4 import BeautifulSoup\n",
    "import pandas as pd\n",
    "\n",
    "def extract(page):\n",
    "    headers = {'User-Agent': 'Mozilla/5.0 (Macintosh; Intel Mac OS X 10_15_7) AppleWebKit/537.36 (KHTML, like Gecko) Chrome/90.0.4430.212 Safari/537.36'}\n",
    "    URL = f'https://uk.indeed.com/jobs?q=python+developer&l=London%2C+Greater+London&start={page}'\n",
    "    r = requests.get (URL, headers)\n",
    "    soup = BeautifulSoup(r.content, 'html.parser')\n",
    "    return soup\n",
    "\n",
    "def transform(soup):\n",
    "    divs = soup.find_all('div', class_ = 'jobsearch-SerpJobCard')\n",
    "    for item in divs:\n",
    "        title = item.find('a').text.replace('\\n','')\n",
    "        company = item.find('span', class_ = 'company').text.strip()\n",
    "        try:\n",
    "            salary = item.find('span', class_ = 'salaryText').text.strip()\n",
    "        except:\n",
    "            salary = ''\n",
    "        summary = item.find('div', {'class' : 'summary'}).text.strip().replace('\\n','')\n",
    "        \n",
    "        job = {\n",
    "            'title': title,\n",
    "            'company': company,\n",
    "            'salary': salary,\n",
    "            'summary': summary\n",
    "        }\n",
    "        joblist.append(job)\n",
    "    return\n",
    "    #return len(divs)\n",
    "\n",
    "#extract (0)"
   ]
  },
  {
   "cell_type": "code",
   "execution_count": 34,
   "metadata": {},
   "outputs": [
    {
     "name": "stdout",
     "output_type": "stream",
     "text": [
      "[{'title': 'Graduate / Junior Developer, Python, Linux, C#, Java – Londo...', 'company': 'Noir Consulting', 'salary': '£30,000 - £40,000 a year', 'summary': 'Within their setup those decisions are made by small teams of three or four developers who own each piece of their product.'}, {'title': 'Digital Developers', 'company': 'HM Land Registry', 'salary': '£27,130 - £38,448 a year', 'summary': 'You will use and learn a wide range of technologies including Java, Python, Postgres, React and OpenShift and collaborate with experts in multiple fields…'}, {'title': 'Junior .Python Developer. HealthTec. London', 'company': 'Michael Page UK', 'salary': '£40,000 - £50,000 a year', 'summary': 'You are logical and can develop clear action plans and communicate them with confidence to internal teams.You will work closely with the R&D, Tech, Science,…'}, {'title': 'Junior Developer - Python Scripting / Excel VBA - Trading', 'company': 'Michael Page UK', 'salary': '£40,000 - £50,000 a year', 'summary': 'Working within the development team with back-end developers to provide seamless support to the traders.To provide exceptional on-desk tactical solutions to…'}, {'title': 'Python Developer', 'company': 'develop.', 'salary': '£70,000 - £80,000 a year', 'summary': 'Extensive Python experience is key, 2 years.Rest API build and deign experience.A pragmatic approach to testing.Docker and Kubernetes experience valued.'}, {'title': 'Junior Python Developer', 'company': 'Lambert Labs', 'salary': '£2,000 - £2,500 a month', 'summary': 'There is a strong chance that the contract will become a full time role.Building an education platform which delivers lessons to help children learn to read…'}, {'title': 'Junior Python Developer', 'company': 'DNEG', 'salary': '', 'summary': 'As well as being able to learn quickly on the job and use your aptitude for initiative to take on technical tasks when required, you will need to be an…'}, {'title': 'Software Engineering Apprenticeship', 'company': 'Facebook', 'salary': '', 'summary': \"It's common to write code and have it running live just a few days later.You will receive support from your manager, buddy and mentor to aid you in securing a…\"}, {'title': 'Senior Python Developer', 'company': 'Barclays', 'salary': '', 'summary': 'Collaborating and communicating globally with other developers and team leads to build technical solutions.You will own and develop both revenue generating and…'}, {'title': 'Python Developer', 'company': 'Barclays', 'salary': '', 'summary': 'As a Barclays Python Developer you will work within Rates Trade Capture Technology team.Such as working from home, flexible or compressed hours, and part-time…'}, {'title': 'Junior Developer', 'company': 'Orbit Energy', 'salary': '£23,000 - £30,000 a year', 'summary': 'As the Junior Software Engineer, you will be assisting in the development of our back-office automation systems, building awesome customer journeys in voice,…'}, {'title': 'Python Developer', 'company': 'Sky', 'salary': '', 'summary': 'Maintain, update and enhance the network automation tools, microservices and applications.Develop and use APIs to integrate various Sky systems.'}, {'title': 'Python Developer', 'company': 'Swish Fibre', 'salary': '', 'summary': 'Swish is about to embark on the development of numerous greenfield projects to automate data flow within the business.'}, {'title': 'Python Developer', 'company': 'Parker Lane', 'salary': '', 'summary': \"It's an exciting time at PLG and we have ambitious plans for growth, with over 50 retailers on board and operating in over 60 secondary markets already.\"}, {'title': 'Python Developer - Front Office Quant', 'company': 'UBS', 'salary': '', 'summary': \"Developing and managing tools and products that showcase the team's abilities.Helping researchers build and integrate new data sets into the platform.\"}, {'title': 'Full Stack Application Developer', 'company': 'JPMorgan Chase Bank, N.A.', 'salary': '', 'summary': 'BS/BA degree or equivalent experience.Advanced knowledge of application, data, and infrastructure architecture disciplines.'}, {'title': 'Junior Software Development Engineer in Test (SDET)', 'company': 'WarnerMedia', 'salary': '', 'summary': 'Understanding the requirement for automated tests.Planning, creating and executing automated tests.Analysing and debugging test failures.'}, {'title': 'Junior/Mid Level Developer - Python (Django) / JavaScript (R...', 'company': 'MyPocketSkill', 'salary': '', 'summary': 'We are looking for a mid to senior-level hire to join our experienced full-stack developer, for a full-time role, to complement our driven, passionate (and fun)…'}, {'title': 'Junior Python Developer', 'company': 'Eames Consulting', 'salary': '£325 - £350 a week', 'summary': 'Be able to own and manage python code.The ideal candidate will have expertise with python development and will be able to own and manage code or applications…'}, {'title': 'Graduate Software Integration Developer', 'company': 'Graduate Recruitment Bureau', 'salary': '', 'summary': \"Support the client's Java, .Net and webMethods platforms for integration to local and remote systems.Net, Java, XAM and SQL on a regular basis.\"}, {'title': 'Software Engineering - Python - Athena Platform', 'company': 'JPMorgan Chase Bank, N.A.', 'salary': '', 'summary': 'Spend a significant proportion of time analyzing and contributing the code base (Athena/Python/JAVA).Quickly diagnose and fix highly complex technical issues.'}, {'title': 'Python Developer - AI SAAS', 'company': 'Propel', 'salary': '£60,000 - £80,000 a year', 'summary': 'Potential to mentor and lead other members of a cross-functional team of developers, designers and product managers.'}, {'title': 'Python Developer', 'company': 'Austin Fraser', 'salary': '£40,000 - £60,000 a year', 'summary': 'You will need to be an experienced Python developer and you will be working closely with other developers building some of the best new apps & products.'}, {'title': 'Python Developer', 'company': 'Global Radio Services', 'salary': '', 'summary': 'Contributed to delivering phenomenal solutions for delivering the latest innovations to our digital products.Familiarity with VCS, preferably Git.'}, {'title': 'PUBLISHING TECHNOLOGIES DEVELOPER', 'company': 'Birkbeck University of London', 'salary': '£38,594 - £44,113 a year', 'summary': 'You will have experience using, developing and deploying open-source projects, preferably using Python3 and Django.'}, {'title': 'Operations Python Developer', 'company': 'Hudson River Trading', 'salary': '', 'summary': 'Algorithmic strategy evaluation and management.Write deployment and monitoring systems (everything from the backend processes to the user-visible desktop GUIs)…'}, {'title': 'Contract Python Django Developer', 'company': 'Kate Matthews Solutions', 'salary': '£400 - £450 a week', 'summary': 'We are currently looking for an experienced and strong Python Developer to work with our client across multiple projects.'}, {'title': 'Junior Python developer', 'company': 'Oho Group', 'salary': '£40,000 - £50,000 a year', 'summary': 'They develop tools to facilitate high speed trading on the sports betting markets.Their system runs 24/7 and they also use low latency software.'}, {'title': 'VIE - Junior Software Developer, Investment Technology', 'company': 'AXA Funds Management', 'salary': '', 'summary': 'Making the software development cycle effective and productive for all other developers.The Infrastructure team of has members in Orinda (California), London …'}, {'title': 'Software Developer – PYTHON', 'company': 'Teamlog', 'salary': '', 'summary': 'This role is about being part of a team putting complex web applications into production.They have a cutting- edge tech stack (AWS, Spark, Python3, Flask,…'}, {'title': 'Python Developer - Associate - Athena Platform', 'company': 'JPMorgan Chase Bank, N.A.', 'salary': '', 'summary': 'You should be a self-sufficient developer comfortable tackling new and complex problem sets.Work directly with line of business developers to gather…'}, {'title': 'Software Engineer, Intern/Co-op', 'company': 'Facebook', 'salary': '', 'summary': \"1 or more years of experience with perl, java, php, python, or c++.It's common to write code and have it running live on the site hours later.\"}, {'title': 'Python Developer', 'company': 'Options Group', 'salary': '', 'summary': 'With this opportunity you would create tools and services in order to enhance the investment process work hands-on in strong teams developing elegant readable…'}, {'title': 'Software Engineer, Platforms and Ecosystems, Google Play', 'company': 'Google', 'salary': '', 'summary': 'The Google Play team enhances the Android ecosystem by giving developers and partners a premium store where they can reach millions of users.'}, {'title': 'VBA Python Developer', 'company': 'Nomura Holdings, Inc.', 'salary': '', 'summary': 'The role will suit a candidate with solid inter-personal skills, excellent delivery focus, and a flair for building technically robust solutions.'}, {'title': 'Python/Django Developer', 'company': 'Austin Fraser', 'salary': '£50,000 - £70,000 a year', 'summary': '3+ years as a Python developer.My client is looking for an experienced Python Developer to come on board and help build out their development team.'}, {'title': 'Microsoft Power BI Developer', 'company': 'AT Medics', 'salary': '£45,000 a year', 'summary': 'We are currently seeking an experienced and passionate Microsoft Power BI developer.The role preliminary involves acting as BI Developer and Data Analyst to…'}, {'title': 'Python Developer REST API Google GCP', 'company': 'Client Server', 'salary': '£65,000 - £80,000 a year', 'summary': \"There's currently a remote interview and onboarding process as well as the ability to work from home; in time you'll join colleagues in awesome offices with…\"}, {'title': 'Python/ Java Developer', 'company': 'Bank of America', 'salary': '', 'summary': 'Role DescriptionFront Office Technology (FX) and software development, deployment, and support of Pricing, eTrading, Market Making, and Trade Booking…'}, {'title': 'Data Analyst / Tableau Developer', 'company': 'DLA Piper', 'salary': '', 'summary': 'To succeed, you’ll need to have strong experience as a BI report and visualisation developer using Tableau.Work with external and internal clients to develop…'}, {'title': 'PUBLISHING TECHNOLOGIES DEVELOPER', 'company': 'Birkbeck, University of London', 'salary': '£38,594 - £44,113 a year', 'summary': 'Department of English, Theatre & Creative Writing.You will have experience using, developing and deploying open-source projects, preferably using Python3 and…'}, {'title': 'Backend Developer (Python)', 'company': 'Flexciton', 'salary': '', 'summary': 'Delivering new features and bug fixes in the python code base.The majority of our code base is written in Python 3.9.Monthly Team Lunch and Dinner.'}, {'title': 'Software Engineering - Analytics Marketplace', 'company': 'JPMorgan Chase Bank, N.A.', 'salary': '', 'summary': 'BS/BA degree or equivalent experience.Expertise in application, data, and infrastructure architecture disciplines.'}, {'title': 'Pipeline Developer', 'company': 'Untold Studios', 'salary': '', 'summary': 'As a Pipeline Developer at Untold Studios you will be responsible for creating, implementing and maintaining the tools, software and workflows used in a high…'}, {'title': 'Python / Django Developer £45-60k', 'company': 'SearchPilot', 'salary': '', 'summary': 'We are looking for a UK-based developer with 2-3 years or more experience working with Python and Django.The role will be focussed on two critical parts of the…'}, {'title': 'Python Developer - Market Data Solutions', 'company': 'Kite Group', 'salary': '£50,000 - £60,000 a year', 'summary': 'Python Developer required for an innovative FinTech business who provide Data & Analytics services to the Capital Markets space.'}, {'title': 'Junior Cloud Engineer', 'company': 'Mindscape', 'salary': '£30,000 a year', 'summary': 'Code Untapped is a leading technology organisation with a proven track record of launching careers across our prestigious client base.'}, {'title': 'Lead Strats Analytics Developer', 'company': 'Deutsche Bank', 'salary': '', 'summary': 'You will be joining the Strats Analytics Group, the team are responsible for delivering applications to solve quantitative problems for Investment Banking…'}, {'title': 'EME Equities Algo Quant Developer', 'company': 'Barclays', 'salary': '', 'summary': 'Helping to review the implementation of frameworks and tasks completed by other software developers.You will be part of our Investment Banking business,…'}, {'title': 'Junior Software Engineer', 'company': 'Mindscape', 'salary': '', 'summary': 'As a junior position, Mindscape will consider graduates or individuals with 1-3 years of industry experience.To start, successful candidates will receive up to…'}, {'title': 'Python Developer', 'company': 'Harnham', 'salary': '£55,000 - £65,000 a year', 'summary': 'World-renowned for their product, the client leverage mass, complex, real-time data to assist retailers and businesses with critical decisions.'}, {'title': 'Graduate Python Developer', 'company': 'Oho Group', 'salary': '£30,000 - £40,000 a year', 'summary': 'Opportuniy to work in one of the worlds largest gaming companies and work amongst the highest calibre of Software developers in a progressive industry.'}, {'title': 'Python Developer', 'company': 'GCS Recruitment Specialists Ltd', 'salary': '£50,000 - £80,000 a year', 'summary': 'We are building a next generation data platform for importing, integrating, processing, linking, visualizing, exploring and analysing biological data across…'}, {'title': 'FULL STACK DEVELOPER', 'company': 'Propeterra', 'salary': '£1,500 a month', 'summary': '\\\\*To be considered for this role you must have detailed knowledge of CSS, HTML and Java as well as a broad knowledge of front end applications.\\\\*.'}, {'title': 'Python - Rates Technology - Software Engineering', 'company': 'JPMorgan Chase Bank, N.A.', 'salary': '', 'summary': \"Become proficient in Python, and the Athena platform's NoSql OO database, graph-oriented development model and developer toolset.\"}, {'title': 'Senior Python Developer', 'company': 'DST Systems', 'salary': '', 'summary': 'The successful candidate will have a track record of delivering projects from inception to completion.Good communications skills are required to work with…'}, {'title': 'Developer', 'company': 'Government Digital Service', 'salary': '£54,700 - £64,500 a year', 'summary': 'Share knowledge of tools and techniques with your wider team, both developers and non-developers.It is built in python based on an Amazon AWS stack.'}, {'title': 'Cloud Engineer', 'company': 'JPMorgan Chase Bank, N.A.', 'salary': '', 'summary': \"It delivers innovative and efficient applications to a wide range of the firm's business, including sales, trading, operations, risk and research.\"}, {'title': 'Principal Python Developer', 'company': 'Schroders', 'salary': '', 'summary': \"You'll work with like-minded technologists, with a variety of skill sets, focused on building best of breed data processing and analytical tools for processes…\"}, {'title': 'Python Developer TDD GCP', 'company': 'Client Server', 'salary': '£70,000 - £75,000 a year', 'summary': \"You'll be able to take ownership of products and will be involved in a number of exciting upcoming projects including replacing the existing website and…\"}]\n"
     ]
    }
   ],
   "source": [
    "joblist = []\n",
    "\n",
    "for i in range(0,40,10):\n",
    "    c = extract (i)\n",
    "    transform(c)\n",
    "    \n",
    "print(joblist)\n"
   ]
  },
  {
   "cell_type": "code",
   "execution_count": null,
   "metadata": {},
   "outputs": [],
   "source": []
  }
 ],
 "metadata": {
  "kernelspec": {
   "display_name": "Python 3",
   "language": "python",
   "name": "python3"
  },
  "language_info": {
   "codemirror_mode": {
    "name": "ipython",
    "version": 3
   },
   "file_extension": ".py",
   "mimetype": "text/x-python",
   "name": "python",
   "nbconvert_exporter": "python",
   "pygments_lexer": "ipython3",
   "version": "3.8.3"
  }
 },
 "nbformat": 4,
 "nbformat_minor": 4
}
