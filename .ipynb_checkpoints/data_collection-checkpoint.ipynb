{
 "cells": [
  {
   "cell_type": "code",
   "execution_count": 112,
   "metadata": {},
   "outputs": [],
   "source": [
    "from selenium import webdriver\n",
    "from bs4 import BeautifulSoup\n",
    "import pandas as pd\n",
    "import requests\n"
   ]
  },
  {
   "cell_type": "code",
   "execution_count": null,
   "metadata": {},
   "outputs": [],
   "source": [
    "# driver = webdriver.Chrome()\n",
    "# driver.get(\"https://www.wg-gesucht.de/wg-zimmer-in-Passau.104.0.1.0.html\")\n",
    "# print(driver.title)"
   ]
  },
  {
   "cell_type": "code",
   "execution_count": null,
   "metadata": {},
   "outputs": [],
   "source": [
    "# def transform(driver):\n",
    "#     #/html/body/div[@id='master_wrapper']/div[@id='site_wrapper']/div[@id='main_content']/div[@id='main_column']/div[@id='liste-details-ad-7368387']/div[@class='row']/div[@class='col-sm-8 card_body']\n",
    "#     cards = driver.find_element_by_xpath(\"/html/body/div[@id='master_wrapper']/div[@id='site_wrapper']/div[@id='main_content']/div[@id='main_column']/div[@id='liste-details-ad-7368387']\")\n",
    "#     print(cards)\n",
    "#     cards.click()\n",
    "#     #return len(divs)\n",
    "\n",
    "# transform(driver)"
   ]
  },
  {
   "cell_type": "code",
   "execution_count": 234,
   "metadata": {},
   "outputs": [],
   "source": [
    "def extract(URL):\n",
    "    #Extract\n",
    "    #headers = {'User-Agent': 'Mozilla/5.0 (Macintosh; Intel Mac OS X 10_15_7) AppleWebKit/537.36 (KHTML, like Gecko) Chrome/90.0.4430.212 Safari/537.36'}\n",
    "    page = requests.get(URL)\n",
    "    soup = BeautifulSoup(page.content, 'html.parser')\n",
    "    \n",
    "    #Download website locally ; Replace the path with where the folder is located on your system\n",
    "    file_name = '/Users/ummerabab-/Desktop/wg-gesucht/Websites/' + URL.split(\"https://www.wg-gesucht.de/\")[1].split('.html')[0] + '.txt'\n",
    "    with open(file_name, \"wb\") as file:\n",
    "        file.write(page.content)\n",
    "    \n",
    "    return soup\n",
    "\n",
    "\n",
    "def transform(soup):\n",
    "    panel_body = soup.find('div', class_ = 'panel-body')\n",
    "    rows = panel_body.find_all('div', class_ = 'row')\n",
    "    description_tag = panel_body.find('div', id = 'ad_description_text')\n",
    "    #print(description_tag)\n",
    "        \n",
    "#     h3 = []\n",
    "#     h4 = []\n",
    "#    for item in rows:\n",
    "        #print('This is an item' + str(item))\n",
    "#         try:\n",
    "#             #h3\n",
    "#             if item.find('div', class_ = 'col-xs-12'):\n",
    "#                 #h3.append(item.find('h3', class_ = 'headline headline-detailed-view-panel-title').text.strip())\n",
    "#                 h3.append(item.h3.text.strip())\n",
    "#                 #print(h3)\n",
    "#             #h4\n",
    "#             for col in item.find_all('div', class_ = 'col-sm-6'):\n",
    "#                 h4.append(h4.append(col.h4.text.strip()))\n",
    "\n",
    "#                 #h4.append(item.find_all('h4', class_ = 'headline headline-detailed-view-datasheet').text.strip())\n",
    "#                 #print(h4)\n",
    "\n",
    "#             description = item.find('p', class_ = 'freitext').text.strip().replace('\\n\\r\\n', '')\n",
    "#         except:\n",
    "#             description = ''\n",
    "        \n",
    "\n",
    "#         wg_list.append(h3)\n",
    "#         wg_list.append(h4)\n",
    "        \n",
    "    \n",
    "    #Description\n",
    "    zimmer = ''\n",
    "    lage = ''\n",
    "    wg_leben = ''\n",
    "    sonstiges = ''\n",
    "        \n",
    "    if description_tag.find('div', id ='freitext_0'):\n",
    "            zimmer = description_tag.find('p', id ='freitext_0_content').text.strip().replace('\\n','').replace('\\r','')\n",
    "    if description_tag.find('div', id ='freitext_1'):\n",
    "            lage = description_tag.find('p', id ='freitext_1_content').text.strip().replace('\\n','').replace('\\r','')\n",
    "    if description_tag.find('div', id ='freitext_2'):\n",
    "            wg_leben = description_tag.find('p', id ='freitext_2_content').text.strip().replace('\\n','').replace('\\r','')\n",
    "    if description_tag.find('div', id ='freitext_3'):\n",
    "            sonstiges = description_tag.find('p', id ='freitext_3_content').text.strip().replace('\\n','').replace('\\r','')\n",
    "\n",
    "            \n",
    "    desc_dict = {'Zimmer': zimmer,\n",
    "                 'Lage'  : lage,\n",
    "                 'WG-Leben' : wg_leben,\n",
    "                 'Sonstiges' : sonstiges}\n",
    "        \n",
    "    #print(desc_dict)\n",
    "            \n",
    "    return"
   ]
  },
  {
   "cell_type": "code",
   "execution_count": 235,
   "metadata": {},
   "outputs": [
    {
     "name": "stdout",
     "output_type": "stream",
     "text": [
      "{'Zimmer': '', 'Lage': '', 'WG-Leben': '', 'Sonstiges': ''}\n"
     ]
    }
   ],
   "source": [
    "wg_list = []\n",
    "URL = \"https://www.wg-gesucht.de/wg-zimmer-in-Passau-Innstadt.7368387.html\"\n",
    "page = extract(URL)\n",
    "transform(page)\n",
    "#print(wg_list)\n"
   ]
  },
  {
   "cell_type": "code",
   "execution_count": null,
   "metadata": {},
   "outputs": [],
   "source": []
  }
 ],
 "metadata": {
  "kernelspec": {
   "display_name": "Python 3",
   "language": "python",
   "name": "python3"
  },
  "language_info": {
   "codemirror_mode": {
    "name": "ipython",
    "version": 3
   },
   "file_extension": ".py",
   "mimetype": "text/x-python",
   "name": "python",
   "nbconvert_exporter": "python",
   "pygments_lexer": "ipython3",
   "version": "3.8.3"
  }
 },
 "nbformat": 4,
 "nbformat_minor": 4
}
